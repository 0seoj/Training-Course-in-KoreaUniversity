{
 "cells": [
  {
   "cell_type": "markdown",
   "metadata": {},
   "source": [
    "**Scraping**  \n",
    "scraping : scale 결정 가능(내가원하는만큼), 특정사이트에서 내가 원하는부분만 긁어오는 것   \n",
    "crawling : large scale (빅데이터), 네트워크를 끊임없이 돌아다니는 애"
   ]
  },
  {
   "cell_type": "code",
   "execution_count": 37,
   "metadata": {},
   "outputs": [],
   "source": [
    "#url 받아오고 에러처리\n",
    "\n",
    "import requests\n",
    "import time\n",
    "def download(method, url, param=None, data=None, timeout=1, maxretries=3):\n",
    "    \n",
    "    try:\n",
    "        resp = requests.request(method, url, params=param, data=data, headers={\"user-agent\": \"Mozilla/5.0 (Macintosh; Intel Mac OS X 10_14_0) AppleWebKit/537.36 (KHTML, like Gecko) Chrome/75.0.3770.100 Safari/537.36\"})\n",
    "        resp.raise_for_status()\n",
    "    except requests.exceptions.HTTPError as e:\n",
    "        if 500 <= e.response.status_code < 600 and maxretries>0:  #500대 에러일시 서버잘못이니까 재시도 메세지 띄워줌\n",
    "            print(maxretries)\n",
    "            time.sleep(timeout)\n",
    "            resp = download(method, url, param, data, timeout, maxretries-1)\n",
    "        print(e.response.status_code)\n",
    "        print(e.response.reason)\n",
    "    return resp\n",
    "    \n"
   ]
  },
  {
   "cell_type": "code",
   "execution_count": 38,
   "metadata": {},
   "outputs": [
    {
     "name": "stdout",
     "output_type": "stream",
     "text": [
      "http://cdn.ppomppu.co.kr/zboard/data/_thumb/ppomppu/9/small_323889.jpg?t=20190716161444\n",
      "[카카오 선물하기] 설레임130ml*24개(12900/무료)\n",
      "(0, 0)\n",
      "263\n",
      "\n",
      "http://cdn.ppomppu.co.kr/zboard/data/_thumb/ppomppu/8/small_323888.jpg?t=20190716161143\n",
      "[G마켓] 쁘띠첼 미초 900mlx4개 (13,300원/무료배송)\n",
      "(0, 0)\n",
      "152\n",
      "\n",
      "http://cdn.ppomppu.co.kr/zboard/data/_thumb/ppomppu/7/small_323887.jpg?t=20190716154110\n",
      "[G마켓] 스파게티소스600gx2 +커리/쌀국수소스x1+면500g (9,900원 / 무배)\n",
      "(0, 0)\n",
      "972\n",
      "\n",
      "http://cdn.ppomppu.co.kr/zboard/data/_thumb/ppomppu/5/small_323885.jpg?t=20190716153432\n",
      "[G9] 삼성공식인증점 갤럭시탭S5e 10.5 WiFi 128GB (488,700원/무료배송) + 상품평 작성시 해피머니1만원\n",
      "0 , 3\n",
      "2439\n",
      "\n",
      "http://cdn.ppomppu.co.kr/zboard/data/_thumb/ppomppu/2/small_323882.jpg?t=20190716152450\n",
      "[G마켓] LG 휘센 제습기 DQ168PBE (368,470원/ 무료배송)\n",
      "(0, 0)\n",
      "1175\n",
      "\n",
      "http://cdn.ppomppu.co.kr/zboard/data/_thumb/ppomppu/0/small_323880.jpg?t=20190716151334\n",
      "[셀티바] 다이어트유산균(48%할인/무료배송)\n",
      "0 , 2\n",
      "742\n",
      "\n",
      "http://cdn.ppomppu.co.kr/zboard/data/_thumb/ppomppu/9/small_323879.jpg?t=20190716145420\n",
      "[위메프] EVA 30CM 마사지 폼롤러 (5900/무료)\n",
      "4 , 1\n",
      "4576\n",
      "\n",
      "http://cdn.ppomppu.co.kr/zboard/data/_thumb/ppomppu/8/small_323878.jpg?t=20190716145350\n",
      "[위메프] LG 미니빔 HF60LA FHD 1400루멘 (835,640/무료)\n",
      "(0, 0)\n",
      "2016\n",
      "\n",
      "http://cdn.ppomppu.co.kr/zboard/data/_thumb/ppomppu/7/small_323877.jpg?t=20190716144040\n",
      "[11번가] 리스테린 그린티 마일드 750mlx2+250mlx2  (13,500/무료배송)\n",
      "(0, 0)\n",
      "839\n",
      "\n",
      "http://cdn.ppomppu.co.kr/zboard/data/_thumb/ppomppu/6/small_323876.jpg?t=20190716134948\n",
      "[Gsuite] Gsuite Basic India (3700원(월) / 무료)\n",
      "3 , 0\n",
      "6525\n",
      "\n",
      "http://cdn.ppomppu.co.kr/zboard/data/_thumb/ppomppu/5/small_323875.jpg?t=20190716133713\n",
      "[하이마트몰] 갤럭시버즈 (138,500원 / 무배) 오너스 첫달 무료체험시, 최대 50% 페이백\n",
      "17 , 7\n",
      "13148\n",
      "\n",
      "http://cdn.ppomppu.co.kr/zboard/data/_thumb/ppomppu/4/small_323874.jpg?t=20190716133521\n",
      "[옥션] 식사에반하다25개입 (26,530원 / 무배)\n",
      "1 , 0\n",
      "5972\n",
      "\n",
      "http://cdn.ppomppu.co.kr/zboard/data/_thumb/ppomppu/3/small_323873.jpg?t=20190716130113\n",
      "[옥션](스마일클럽전용딜) 생활공작소 제습제 520ml*12개*2 ->24개 (14,280원/무료) 하나/NH농협/KB국민/비씨/현대/신한 12,300원\n",
      "9 , 0\n",
      "2655\n",
      "\n",
      "http://cdn.ppomppu.co.kr/zboard/data/_thumb/ppomppu/2/small_323872.jpg?t=20190716123402\n",
      "[티몬] (티몬페이전용)해피머니 10만원권 3장(271,500원/쿠폰적용시 269,900원)\n",
      "36 , 0\n",
      "10813\n",
      "\n",
      "http://cdn.ppomppu.co.kr/zboard/data/_thumb/ppomppu/1/small_323871.jpg?t=20190716121801\n",
      "[티몬] 해피머니 10만원권 (90,900원/0원)\n",
      "83 , 0\n",
      "15095\n",
      "\n",
      "http://cdn.ppomppu.co.kr/zboard/data/_thumb/ppomppu/0/small_323870.jpg?t=20190716121542\n",
      "[티몬] 1등급 한돈 삼겹살 600g (6,500/무료배송)\n",
      "4 , 0\n",
      "6615\n",
      "\n",
      "http://cdn.ppomppu.co.kr/zboard/data/_thumb/ppomppu/9/small_323869.jpg?t=20190716114613\n",
      "[우체국쇼핑] 진안 매콤화끈 중독의맛 뼈없는 직화불닭발 1+1(2팩)(8500/무료) 쿠폰적용시7650\n",
      "7 , 0\n",
      "5072\n",
      "\n",
      "http://cdn.ppomppu.co.kr/zboard/data/_thumb/ppomppu/8/small_323868.jpg?t=20190716114856\n",
      "[유튜브] 유튜브프리미엄 인도 ( 2200원(월), 3200원(월)6명 / 무료)\n",
      "96 , 17\n",
      "41449\n",
      "\n",
      "http://cdn.ppomppu.co.kr/zboard/data/_thumb/ppomppu/7/small_323867.jpg?t=20190716112037\n",
      "[KW 주식회사 ] 휴대용 미니 선풍기 ( 5,900~8,900 / 무료)\n",
      "0 , 1\n",
      "2745\n",
      "\n",
      "http://cdn.ppomppu.co.kr/zboard/data/_thumb/ppomppu/6/small_323866.jpg?t=20190716111807\n",
      "[11번가] 벨킨 스마트폰 전기종 호환 충전케이블(9,900/무배)\n",
      "4 , 0\n",
      "3838\n",
      "\n"
     ]
    }
   ],
   "source": [
    "#http://www.ppomppu.co.kr/zboard/zboard.php?id=ppomppu\n",
    "from bs4 import BeautifulSoup\n",
    "\n",
    "url = \"http://www.ppomppu.co.kr/zboard/zboard.php\"\n",
    "param = {\n",
    "    'id':'ppomppu',\n",
    "    'page': 1\n",
    "}\n",
    "html = download('get',url,param)\n",
    "dom = BeautifulSoup(html.text,'lxml')\n",
    "\n",
    "\n",
    "#썸네일, title, 추천, 조회 가져오기\n",
    "for tr in dom.select(\"tr[class^=list]\")[1:]:   #tr인데 class가 list로 시작하는\n",
    "    td = tr.find_all(\"td\", recursive=False)\n",
    "    print(requests.compat.urljoin(url, td[3].a.img[\"src\"])) #썸네일이미지\n",
    "    \n",
    "    print(td[3].select(\"td[valign=middle] > a\")[0].text) #타이틀\n",
    "    temp = td[5].text.split(\"-\")\n",
    "    print((0,0) if len(temp) < 2 else \",\".join(temp))  #추천, (추천 비추천 차이 많이나는것만 가져옴)\n",
    "    print(td[6].text.strip()) #strip : 양옆에 공백 제거  #조회\n",
    "    print()\n"
   ]
  },
  {
   "cell_type": "code",
   "execution_count": null,
   "metadata": {},
   "outputs": [],
   "source": [
    "\n"
   ]
  },
  {
   "cell_type": "markdown",
   "metadata": {},
   "source": [
    "**뽐뿌 자유게시판 10개페이지만 포커스 크롤링**\n",
    "\n",
    "\n",
    "[Crawling]\n",
    "1. Focused Crawling(10개페이지 내에서)\n",
    "2. 각 페이지 당 게시글(제목) 부분의 a 수집\n",
    "3. 수집된 a로부터 Scraping\n",
    "\n",
    "[Scraping]\n",
    "1. 제목, 본문내용, 댓글 파싱\n",
    "(댓글은 있거나 여러개 있음)\n"
   ]
  },
  {
   "cell_type": "code",
   "execution_count": 42,
   "metadata": {},
   "outputs": [
    {
     "ename": "NameError",
     "evalue": "name 'seed' is not defined",
     "output_type": "error",
     "traceback": [
      "\u001b[0;31m---------------------------------------------------------------------------\u001b[0m",
      "\u001b[0;31mNameError\u001b[0m                                 Traceback (most recent call last)",
      "\u001b[0;32m<ipython-input-42-6269f5cceef5>\u001b[0m in \u001b[0;36m<module>\u001b[0;34m\u001b[0m\n\u001b[1;32m      7\u001b[0m     \u001b[0;34m'page'\u001b[0m\u001b[0;34m:\u001b[0m \u001b[0;36m1\u001b[0m\u001b[0;34m\u001b[0m\u001b[0;34m\u001b[0m\u001b[0m\n\u001b[1;32m      8\u001b[0m }\n\u001b[0;32m----> 9\u001b[0;31m \u001b[0mhtml\u001b[0m \u001b[0;34m=\u001b[0m \u001b[0mdownload\u001b[0m\u001b[0;34m(\u001b[0m\u001b[0;34m\"get\"\u001b[0m\u001b[0;34m,\u001b[0m \u001b[0mseed\u001b[0m\u001b[0;34m)\u001b[0m\u001b[0;34m\u001b[0m\u001b[0;34m\u001b[0m\u001b[0m\n\u001b[0m\u001b[1;32m     10\u001b[0m \u001b[0mdom\u001b[0m \u001b[0;34m=\u001b[0m \u001b[0mBeautifulSoup\u001b[0m\u001b[0;34m(\u001b[0m\u001b[0mhtml\u001b[0m\u001b[0;34m.\u001b[0m\u001b[0mtext\u001b[0m\u001b[0;34m,\u001b[0m \u001b[0;34m\"lxml\"\u001b[0m\u001b[0;34m)\u001b[0m\u001b[0;34m\u001b[0m\u001b[0;34m\u001b[0m\u001b[0m\n\u001b[1;32m     11\u001b[0m \u001b[0;34m\u001b[0m\u001b[0m\n",
      "\u001b[0;31mNameError\u001b[0m: name 'seed' is not defined"
     ]
    }
   ],
   "source": [
    "#http://www.ppomppu.co.kr/zboard/zboard.php?id=freeboard\n",
    "from bs4 import BeautifulSoup\n",
    "\n",
    "url = \"http://www.ppomppu.co.kr/zboard/zboard.php\"\n",
    "param = {\n",
    "    'id': 'freeboard',\n",
    "    'page': 1\n",
    "}\n",
    "\n",
    "def parseURL(seed):\n",
    "    html = download(\"get\", seed)\n",
    "    dom = BeautifulSoup(html.text, \"lxml\")\n",
    "    return [requests.compat.urljoin(url, _[\"href\"]) for _ in dom.select(\"td.list_vspace > a\") if _.has_attr('href') and len(_[\"href\"])>3]"
   ]
  },
  {
   "cell_type": "code",
   "execution_count": 40,
   "metadata": {},
   "outputs": [
    {
     "data": {
      "text/plain": [
       "['http://www.ppomppu.co.kr/zboard/view.php?id=regulation&page=1&divpage=202&no=6']"
      ]
     },
     "execution_count": 40,
     "metadata": {},
     "output_type": "execute_result"
    }
   ],
   "source": [
    "[requests.compat.urljoin(url, _[\"href\"]) for _ in dom.select(\"td.list_vspace > a\") if _.has_attr('href') and len(_[\"href\"])>3] \n"
   ]
  },
  {
   "cell_type": "code",
   "execution_count": 43,
   "metadata": {},
   "outputs": [
    {
     "name": "stdout",
     "output_type": "stream",
     "text": [
      "Queue: 0, Seen: 1\n"
     ]
    }
   ],
   "source": [
    "queue = []\n",
    "queue.extend([requests.compat.urljoin(url, _[\"href\"]) for _ in dom.select(\"td.list_vspace > a\") if _.has_attr('href') and len(_[\"href\"])>3]) \n",
    "\n",
    "seen = []\n",
    "#queue에 어팬드 시켜서 큐에 더이상 데이터가 없을때까지 돌거임\n",
    "while queue: #여긴항상트루\n",
    "    baseURL = queue.pop(0)\n",
    "    seen.append(baseURL)\n",
    "    time.sleep(1)\n",
    "    linkList = parseURL(baseURL) #여기서 중복된 유알엘들이 들어옴. 제거해야함\n",
    "    for link in linkList:\n",
    "        if link not in queue and link not in seen:  #링크가 queue에도 없어야하고, seen에도 없어야해\n",
    "            queue.append(link)\n",
    "    \n",
    "    print(\"Queue: {0}, Seen: {1}\".format(len(queue), len(seen)))  \n",
    "    #baseURL.expand(linkList) #붙임\n"
   ]
  },
  {
   "cell_type": "code",
   "execution_count": 30,
   "metadata": {},
   "outputs": [
    {
     "data": {
      "text/plain": [
       "['http://www.ppomppu.co.kr/zboard/view.php?id=regulation&page=1&divpage=202&no=6']"
      ]
     },
     "execution_count": 30,
     "metadata": {},
     "output_type": "execute_result"
    }
   ],
   "source": [
    "seen"
   ]
  },
  {
   "cell_type": "code",
   "execution_count": null,
   "metadata": {},
   "outputs": [],
   "source": []
  }
 ],
 "metadata": {
  "kernelspec": {
   "display_name": "Python 3",
   "language": "python",
   "name": "python3"
  },
  "language_info": {
   "codemirror_mode": {
    "name": "ipython",
    "version": 3
   },
   "file_extension": ".py",
   "mimetype": "text/x-python",
   "name": "python",
   "nbconvert_exporter": "python",
   "pygments_lexer": "ipython3",
   "version": "3.6.8"
  }
 },
 "nbformat": 4,
 "nbformat_minor": 2
}
