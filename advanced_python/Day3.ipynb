{
 "cells": [
  {
   "cell_type": "code",
   "execution_count": 2,
   "metadata": {},
   "outputs": [
    {
     "name": "stdout",
     "output_type": "stream",
     "text": [
      "33\n"
     ]
    }
   ],
   "source": [
    "a = input(a)\n",
    "a = int(a)  #절차적 프로그래밍"
   ]
  },
  {
   "cell_type": "code",
   "execution_count": 1,
   "metadata": {},
   "outputs": [
    {
     "name": "stdout",
     "output_type": "stream",
     "text": [
      "3\n"
     ]
    }
   ],
   "source": [
    "a = int(input()) #함수형 프로그래밍 : 모든 것을 함수로 하는 것. --> input과 output이 1대1로 매칭돼야해! "
   ]
  },
  {
   "cell_type": "code",
   "execution_count": 6,
   "metadata": {},
   "outputs": [],
   "source": [
    "import time\n",
    "def x(a=time.time()):\n",
    "    return a"
   ]
  },
  {
   "cell_type": "code",
   "execution_count": 7,
   "metadata": {},
   "outputs": [
    {
     "data": {
      "text/plain": [
       "1562116785.507189"
      ]
     },
     "execution_count": 7,
     "metadata": {},
     "output_type": "execute_result"
    }
   ],
   "source": [
    "time.time()  #어쩌라고 ? ?"
   ]
  },
  {
   "cell_type": "code",
   "execution_count": 8,
   "metadata": {},
   "outputs": [],
   "source": [
    "#파이썬의 특징(함수형 패러다임)\n",
    "#멀티 패러다임 : 문제를 해결하기 위한 다양한 방법이 존재\n",
    "#파이썬은 순수한 함수형 패러다임 언어가 아님. 객체지향의 함수형 패러다임을 지원해주는 것임.\n",
    "#즉, 일부러 함수형 패러다임에 집착할 필요가 없다! 필요한 부분만 갖다 쓰자\n",
    "#파이썬은 기본적으로 객체지향 언어. 이것만으로 해결할 수 없어서 함수형 패러다임을 지원해 주게 된 것. \n",
    "#모듈화되어 있음. --> 다른 함수랑 결합할 수 있다!"
   ]
  },
  {
   "cell_type": "code",
   "execution_count": 9,
   "metadata": {},
   "outputs": [],
   "source": [
    "#iterable : 순회 가능한 것. 즉 for에서 하나하나씩 돌아가는 애. iterator가 될 수 있는 애.\n",
    "#iterator : 한개씩 뽑아내는 애. for문을 돌면서 iterator로 변함"
   ]
  },
  {
   "cell_type": "code",
   "execution_count": 10,
   "metadata": {},
   "outputs": [
    {
     "name": "stdout",
     "output_type": "stream",
     "text": [
      "1\n",
      "2\n",
      "3\n"
     ]
    }
   ],
   "source": [
    "for i in [1,2,3]:\n",
    "    print(i)"
   ]
  },
  {
   "cell_type": "code",
   "execution_count": 1,
   "metadata": {},
   "outputs": [
    {
     "data": {
      "text/plain": [
       "list_iterator"
      ]
     },
     "execution_count": 1,
     "metadata": {},
     "output_type": "execute_result"
    }
   ],
   "source": [
    "a = [1,2,3]\n",
    "b = iter(a)\n",
    "type(b)"
   ]
  },
  {
   "cell_type": "code",
   "execution_count": 2,
   "metadata": {},
   "outputs": [
    {
     "data": {
      "text/plain": [
       "1"
      ]
     },
     "execution_count": 2,
     "metadata": {},
     "output_type": "execute_result"
    }
   ],
   "source": [
    "next(b)"
   ]
  },
  {
   "cell_type": "code",
   "execution_count": 3,
   "metadata": {},
   "outputs": [
    {
     "data": {
      "text/plain": [
       "2"
      ]
     },
     "execution_count": 3,
     "metadata": {},
     "output_type": "execute_result"
    }
   ],
   "source": [
    "next(b)"
   ]
  },
  {
   "cell_type": "code",
   "execution_count": 4,
   "metadata": {},
   "outputs": [
    {
     "data": {
      "text/plain": [
       "3"
      ]
     },
     "execution_count": 4,
     "metadata": {},
     "output_type": "execute_result"
    }
   ],
   "source": [
    "next(b)"
   ]
  },
  {
   "cell_type": "code",
   "execution_count": 17,
   "metadata": {},
   "outputs": [
    {
     "ename": "StopIteration",
     "evalue": "",
     "output_type": "error",
     "traceback": [
      "\u001b[0;31m---------------------------------------------------------------------------\u001b[0m",
      "\u001b[0;31mStopIteration\u001b[0m                             Traceback (most recent call last)",
      "\u001b[0;32m<ipython-input-17-adb3e17b0219>\u001b[0m in \u001b[0;36m<module>\u001b[0;34m\u001b[0m\n\u001b[0;32m----> 1\u001b[0;31m \u001b[0mnext\u001b[0m\u001b[0;34m(\u001b[0m\u001b[0mb\u001b[0m\u001b[0;34m)\u001b[0m\u001b[0;34m\u001b[0m\u001b[0;34m\u001b[0m\u001b[0m\n\u001b[0m",
      "\u001b[0;31mStopIteration\u001b[0m: "
     ]
    }
   ],
   "source": [
    "next(b)  #에러 : 더이상 뽑아낼게 없기 때문에"
   ]
  },
  {
   "cell_type": "code",
   "execution_count": 18,
   "metadata": {},
   "outputs": [],
   "source": [
    "#즉, iterator란 한개씩 뽑아내는 애\n",
    "#for문 돌면서 iterator가 하나씩 뽑혀나오고, next가 실행된다"
   ]
  },
  {
   "cell_type": "code",
   "execution_count": 19,
   "metadata": {},
   "outputs": [],
   "source": [
    "#그럼 iterator의 장점은?\n",
    "#Lazy 기법 :실행되기 전에는 X 실행될 때 메모리상에 올림, 한번에 데이터 올리면 뻑나기때문에 이건 장점이야! \n",
    "#일반적으로 속도는 느린데, 파이썬에서는 최적화해놔서 속도도 좋음"
   ]
  },
  {
   "cell_type": "code",
   "execution_count": 24,
   "metadata": {},
   "outputs": [
    {
     "data": {
      "text/plain": [
       "[2, 3]"
      ]
     },
     "execution_count": 24,
     "metadata": {},
     "output_type": "execute_result"
    }
   ],
   "source": [
    "a = [1,2,3]\n",
    "b = iter(a)\n",
    "next(b)  \n",
    "list(b)"
   ]
  },
  {
   "cell_type": "code",
   "execution_count": 25,
   "metadata": {},
   "outputs": [],
   "source": [
    "#즉, next는 앞에서부터 뽑아냄. vs pop은 뒤에서부터 뽑아냄"
   ]
  },
  {
   "cell_type": "code",
   "execution_count": 26,
   "metadata": {},
   "outputs": [],
   "source": [
    "import dis #분리시키는 것\n",
    "def iterator_exam():\n",
    "    for i in [1,2,3]:\n",
    "        print(i)"
   ]
  },
  {
   "cell_type": "code",
   "execution_count": 27,
   "metadata": {},
   "outputs": [
    {
     "name": "stdout",
     "output_type": "stream",
     "text": [
      "  3           0 SETUP_LOOP              20 (to 22)\n",
      "              2 LOAD_CONST               1 ((1, 2, 3))\n",
      "              4 GET_ITER\n",
      "        >>    6 FOR_ITER                12 (to 20)\n",
      "              8 STORE_FAST               0 (i)\n",
      "\n",
      "  4          10 LOAD_GLOBAL              0 (print)\n",
      "             12 LOAD_FAST                0 (i)\n",
      "             14 CALL_FUNCTION            1\n",
      "             16 POP_TOP\n",
      "             18 JUMP_ABSOLUTE            6\n",
      "        >>   20 POP_BLOCK\n",
      "        >>   22 LOAD_CONST               0 (None)\n",
      "             24 RETURN_VALUE\n"
     ]
    }
   ],
   "source": [
    "dis.dis(iterator_exam)"
   ]
  },
  {
   "cell_type": "code",
   "execution_count": 28,
   "metadata": {},
   "outputs": [
    {
     "data": {
      "text/plain": [
       "set_iterator"
      ]
     },
     "execution_count": 28,
     "metadata": {},
     "output_type": "execute_result"
    }
   ],
   "source": [
    "a = {1,2,3}\n",
    "b = iter(a)\n",
    "type(b)"
   ]
  },
  {
   "cell_type": "code",
   "execution_count": 29,
   "metadata": {},
   "outputs": [
    {
     "data": {
      "text/plain": [
       "str_iterator"
      ]
     },
     "execution_count": 29,
     "metadata": {},
     "output_type": "execute_result"
    }
   ],
   "source": [
    "a = '영서짱'\n",
    "b = iter(a)\n",
    "type(b)"
   ]
  },
  {
   "cell_type": "code",
   "execution_count": 30,
   "metadata": {},
   "outputs": [
    {
     "data": {
      "text/plain": [
       "<str_iterator at 0x1049d75c0>"
      ]
     },
     "execution_count": 30,
     "metadata": {},
     "output_type": "execute_result"
    }
   ],
   "source": [
    "b  #out: 꺽새는 눈에 안보임. 괄호,or list 써서 눈에 보이도록 바꿔주자!"
   ]
  },
  {
   "cell_type": "code",
   "execution_count": 31,
   "metadata": {},
   "outputs": [
    {
     "data": {
      "text/plain": [
       "'영'"
      ]
     },
     "execution_count": 31,
     "metadata": {},
     "output_type": "execute_result"
    }
   ],
   "source": [
    "next(b)"
   ]
  },
  {
   "cell_type": "code",
   "execution_count": 35,
   "metadata": {},
   "outputs": [
    {
     "name": "stdout",
     "output_type": "stream",
     "text": [
      "ab\\n\n",
      "ab\n"
     ]
    }
   ],
   "source": [
    "#int는 클래스, iter는 함수임\n",
    "#기본적으로 값을 만드는 방법은 두가지임.\n",
    "a = 1.3 \n",
    "a = [1,2,3]\n",
    "a = r'ab\\n'  #raw형태\n",
    "print(a)\n",
    "a = f'ab' #바이트형태\n",
    "print(a)\n",
    "#기호에 따라서 내부적으로 타입이 체크됨. -->literal 기법 "
   ]
  },
  {
   "cell_type": "code",
   "execution_count": 36,
   "metadata": {},
   "outputs": [
    {
     "data": {
      "text/plain": [
       "str"
      ]
     },
     "execution_count": 36,
     "metadata": {},
     "output_type": "execute_result"
    }
   ],
   "source": [
    "#객체지향 : 클래스를 인스턴스화시킴\n",
    "#내장 객체 : 클래스 이름 맨앞에 소문자, 외부객체 : 클래스이름 맨 앞에 대문자\n",
    "in\n",
    "type(a) #type 쳤을때 나오는 게 클래스"
   ]
  },
  {
   "cell_type": "code",
   "execution_count": 45,
   "metadata": {},
   "outputs": [
    {
     "data": {
      "text/plain": [
       "0"
      ]
     },
     "execution_count": 45,
     "metadata": {},
     "output_type": "execute_result"
    }
   ],
   "source": [
    "a = int()\n",
    "a   #false값이 기본적으로 나옴 (존재론적 관점)"
   ]
  },
  {
   "cell_type": "code",
   "execution_count": 44,
   "metadata": {},
   "outputs": [
    {
     "data": {
      "text/plain": [
       "[]"
      ]
     },
     "execution_count": 44,
     "metadata": {},
     "output_type": "execute_result"
    }
   ],
   "source": [
    "b = list()\n",
    "b"
   ]
  },
  {
   "cell_type": "code",
   "execution_count": 43,
   "metadata": {},
   "outputs": [
    {
     "data": {
      "text/plain": [
       "set()"
      ]
     },
     "execution_count": 43,
     "metadata": {},
     "output_type": "execute_result"
    }
   ],
   "source": [
    "b = set()   \n",
    "# shift+tab --> set(iterable) --> set안에 튜플, 리스트, 딕셔너리 들어갈 수 있다! \n",
    "# / : positional only, * : 가변 포지셔널(가변길이 인자받아옴,즉 함수내에서 리스트처럼쓸수있다) ** :가변 키워드\n",
    "b"
   ]
  },
  {
   "cell_type": "code",
   "execution_count": 46,
   "metadata": {},
   "outputs": [],
   "source": [
    "a = int('3')  # type conversion 방식이아님, 인스턴스방식으로 새로생성한것\n",
    "#iter는 예외적인 type conversion방식임!\n",
    "#iter, generator는 next밖에 쓸게 없음, 둘이 모양이 좀 다름"
   ]
  },
  {
   "cell_type": "code",
   "execution_count": 47,
   "metadata": {},
   "outputs": [],
   "source": [
    "def generator_exam():\n",
    "    yield 1\n",
    "    yield 2\n",
    "    yield 3"
   ]
  },
  {
   "cell_type": "code",
   "execution_count": 49,
   "metadata": {},
   "outputs": [
    {
     "data": {
      "text/plain": [
       "<generator object generator_exam at 0x104acc048>"
      ]
     },
     "execution_count": 49,
     "metadata": {},
     "output_type": "execute_result"
    }
   ],
   "source": [
    "x = generator_exam()\n",
    "x"
   ]
  },
  {
   "cell_type": "code",
   "execution_count": 50,
   "metadata": {},
   "outputs": [
    {
     "data": {
      "text/plain": [
       "1"
      ]
     },
     "execution_count": 50,
     "metadata": {},
     "output_type": "execute_result"
    }
   ],
   "source": [
    "next(x)"
   ]
  },
  {
   "cell_type": "code",
   "execution_count": 51,
   "metadata": {},
   "outputs": [
    {
     "data": {
      "text/plain": [
       "2"
      ]
     },
     "execution_count": 51,
     "metadata": {},
     "output_type": "execute_result"
    }
   ],
   "source": [
    "next(x)"
   ]
  },
  {
   "cell_type": "code",
   "execution_count": 52,
   "metadata": {},
   "outputs": [
    {
     "data": {
      "text/plain": [
       "3"
      ]
     },
     "execution_count": 52,
     "metadata": {},
     "output_type": "execute_result"
    }
   ],
   "source": [
    "next(x)"
   ]
  },
  {
   "cell_type": "code",
   "execution_count": 53,
   "metadata": {},
   "outputs": [
    {
     "ename": "StopIteration",
     "evalue": "",
     "output_type": "error",
     "traceback": [
      "\u001b[0;31m---------------------------------------------------------------------------\u001b[0m",
      "\u001b[0;31mStopIteration\u001b[0m                             Traceback (most recent call last)",
      "\u001b[0;32m<ipython-input-53-92de4e9f6b1e>\u001b[0m in \u001b[0;36m<module>\u001b[0;34m\u001b[0m\n\u001b[0;32m----> 1\u001b[0;31m \u001b[0mnext\u001b[0m\u001b[0;34m(\u001b[0m\u001b[0mx\u001b[0m\u001b[0;34m)\u001b[0m\u001b[0;34m\u001b[0m\u001b[0;34m\u001b[0m\u001b[0m\n\u001b[0m",
      "\u001b[0;31mStopIteration\u001b[0m: "
     ]
    }
   ],
   "source": [
    "next(x)"
   ]
  },
  {
   "cell_type": "code",
   "execution_count": 54,
   "metadata": {},
   "outputs": [],
   "source": [
    "#from은 두가지 방법 존재.\n",
    "#첫번째\n",
    "\n",
    "def generator_exam():    \n",
    "    yield from [1,2,3,4]  \n",
    "\n",
    "#generator : 내 마음대로 next를 쓸 수 있음. Lazy한 장점이 있음!\n",
    "def generator_exam():    \n",
    "    return [1,2,3,4]    #이렇게하면 메모리에 한번에 올라가버림\n"
   ]
  },
  {
   "cell_type": "code",
   "execution_count": 55,
   "metadata": {},
   "outputs": [
    {
     "data": {
      "text/plain": [
       "[0, 1, 2, 3, 4, 5, 6, 7, 8, 9]"
      ]
     },
     "execution_count": 55,
     "metadata": {},
     "output_type": "execute_result"
    }
   ],
   "source": [
    "#comprehension문법. iterator가 생성돼서 하나씩 붙어버림. 값을 만들기위한 기법. 반복식이라고 함.\n",
    "#오른쪽에서 왼쪽으로 값이 들어감\n",
    "[x for x in range(10)]  "
   ]
  },
  {
   "cell_type": "code",
   "execution_count": 58,
   "metadata": {},
   "outputs": [
    {
     "name": "stdout",
     "output_type": "stream",
     "text": [
      "537 ns ± 13.9 ns per loop (mean ± std. dev. of 7 runs, 1000000 loops each)\n"
     ]
    }
   ],
   "source": [
    "%timeit [x for x in range(10)]  "
   ]
  },
  {
   "cell_type": "code",
   "execution_count": 59,
   "metadata": {},
   "outputs": [
    {
     "name": "stdout",
     "output_type": "stream",
     "text": [
      "820 ns ± 18.1 ns per loop (mean ± std. dev. of 7 runs, 1000000 loops each)\n"
     ]
    }
   ],
   "source": [
    "%%timeit \n",
    "temp = []\n",
    "for i in range(10):\n",
    "    temp.append(i)"
   ]
  },
  {
   "cell_type": "code",
   "execution_count": 76,
   "metadata": {},
   "outputs": [
    {
     "data": {
      "text/plain": [
       "set"
      ]
     },
     "execution_count": 76,
     "metadata": {},
     "output_type": "execute_result"
    }
   ],
   "source": [
    "# comprehension 방식이 훨씬 빠르다! 내부적으로 최적화 돼있기 때문에\n",
    "# comprehension은 세가지 방식 존재. list, set, dictionary (tuple은 안된다! generator로 씀)\n",
    "# 값을 초기화할 때 아주 많이 쓴다!\n",
    "# 응용도 할 수 있음!\n",
    "# for문을 쓰지않고 동시에 여러 데이터를 빠르게 만드는 기법\n",
    "\n",
    "[str(x) for x in range(10)]  \n",
    "\n",
    "#if응용법 2개\n",
    "[x for x in range(10) if x%2==0] \n",
    "[x if x%2==0 else 3 for x in range(10)]\n",
    "# 파이썬은 값을 왼쪽에서 오른쪽으로 계산함!\n",
    "\n",
    "#식은 식끼리 붙일 수 있다!\n",
    "[(x,y) for x in range(1,11) for y in range(10)]  #백터에서 2차원배열 중첩시킬 때 사용 가능\n",
    "\n",
    "a = {(x,y) for x in range(1,11) for y in range(10)} #set 가능\n",
    "type(a)\n",
    "#dictionary 예제 놓침"
   ]
  },
  {
   "cell_type": "code",
   "execution_count": 79,
   "metadata": {},
   "outputs": [],
   "source": [
    "#두개 다 iterator로 만들어줌. 코스트도 비슷. 즉 iter안써도됨\n",
    "temp = []\n",
    "for i in range(10):\n",
    "    temp.append(i)\n",
    "    \n",
    "for i in iter(range(10)):\n",
    "    temp.append(i)\n",
    "    "
   ]
  },
  {
   "cell_type": "code",
   "execution_count": 80,
   "metadata": {},
   "outputs": [
    {
     "data": {
      "text/plain": [
       "{'__next__'}"
      ]
     },
     "execution_count": 80,
     "metadata": {},
     "output_type": "execute_result"
    }
   ],
   "source": [
    "from collections.abc import Iterable\n",
    "from collections.abc import Iterator\n",
    "\n",
    "set(dir(Iterator)) - set(dir(Iterable))  #둘의 차이는 next를 쓸 수 있느냐 없느냐. 즉 iterable쓰는 자리에 iterator 쓸수 있음"
   ]
  },
  {
   "cell_type": "code",
   "execution_count": 81,
   "metadata": {},
   "outputs": [
    {
     "name": "stdout",
     "output_type": "stream",
     "text": [
      "672 ns ± 5.55 ns per loop (mean ± std. dev. of 7 runs, 1000000 loops each)\n"
     ]
    }
   ],
   "source": [
    "#시간비교\n",
    "%timeit sum([x for x in range(1,11)])  #list comprehension  --> 생성해야하니까 시간 더 오래걸리긴 함"
   ]
  },
  {
   "cell_type": "code",
   "execution_count": 82,
   "metadata": {},
   "outputs": [
    {
     "name": "stdout",
     "output_type": "stream",
     "text": [
      "172 ns ± 1.4 ns per loop (mean ± std. dev. of 7 runs, 10000000 loops each)\n"
     ]
    }
   ],
   "source": [
    "%timeit sum([1,2,3,4,5,6,7,8,9,10]) #그냥"
   ]
  },
  {
   "cell_type": "code",
   "execution_count": 84,
   "metadata": {},
   "outputs": [
    {
     "name": "stdout",
     "output_type": "stream",
     "text": [
      "770 ns ± 4.6 ns per loop (mean ± std. dev. of 7 runs, 1000000 loops each)\n"
     ]
    }
   ],
   "source": [
    "%timeit sum(x for x in range(1,11))  #generator tuple 생성 --> 함수 안에 쓸 때는 괄호를 생략해도 됨"
   ]
  },
  {
   "cell_type": "code",
   "execution_count": 85,
   "metadata": {},
   "outputs": [],
   "source": [
    "#식 다시한번 정리\n",
    "#식 : 하나의 값으로 축약 가능한 것\n",
    "#식끼리 결합 가능\n",
    "#함수 argument로 들어갈 수 있음"
   ]
  },
  {
   "cell_type": "code",
   "execution_count": 90,
   "metadata": {},
   "outputs": [
    {
     "data": {
      "text/plain": [
       "2"
      ]
     },
     "execution_count": 90,
     "metadata": {},
     "output_type": "execute_result"
    }
   ],
   "source": [
    "#함수형 패러다임에선 재귀함수를 매우 자주 씀\n",
    "\n",
    "def fibo(n):\n",
    "    if n<3:\n",
    "        return 1\n",
    "    return fibo(n-1)+fibo(n-2)\n",
    "\n",
    "fibo(3)"
   ]
  },
  {
   "cell_type": "code",
   "execution_count": 91,
   "metadata": {},
   "outputs": [],
   "source": [
    "#파이썬은 언어 자체에서 꼬리 재귀를 제공하진 않아.\n",
    "#꼬리재귀란? 트리형식의 재귀 구조를 일렬로 만들어서 반복계산을 줄여 주는 것\n",
    "#따라서 실무 파이썬에서는 재귀쓰면안돼!!!\n"
   ]
  },
  {
   "cell_type": "code",
   "execution_count": 92,
   "metadata": {},
   "outputs": [],
   "source": [
    "#내장함수1!!!!!!! 개념 매우중요\n",
    "#삼총사 map ,filter, reduce\n",
    "\n",
    "# map\n",
    "def add_one(x):\n",
    "    return x+1"
   ]
  },
  {
   "cell_type": "code",
   "execution_count": 93,
   "metadata": {},
   "outputs": [
    {
     "data": {
      "text/plain": [
       "<map at 0x105064358>"
      ]
     },
     "execution_count": 93,
     "metadata": {},
     "output_type": "execute_result"
    }
   ],
   "source": [
    "map(add_one, [1,2,3,4,5])"
   ]
  },
  {
   "cell_type": "code",
   "execution_count": 94,
   "metadata": {},
   "outputs": [
    {
     "data": {
      "text/plain": [
       "[2, 3, 4, 5, 6]"
      ]
     },
     "execution_count": 94,
     "metadata": {},
     "output_type": "execute_result"
    }
   ],
   "source": [
    "list(map(add_one, [1,2,3,4,5]))  #add_one 함수에 하나씩 넣어서 전체 값 계산해줌 "
   ]
  },
  {
   "cell_type": "code",
   "execution_count": 95,
   "metadata": {},
   "outputs": [
    {
     "data": {
      "text/plain": [
       "[2, 3, 4, 5, 6]"
      ]
     },
     "execution_count": 95,
     "metadata": {},
     "output_type": "execute_result"
    }
   ],
   "source": [
    "#람다 = 함수 식 = 함수 인자로 집어넣을 수 있다\n",
    "list(map(lambda x:x+1, [1,2,3,4,5])) #--> 데이터를 한번에 바꿀 수 있음!!!!!!"
   ]
  },
  {
   "cell_type": "code",
   "execution_count": 96,
   "metadata": {},
   "outputs": [],
   "source": [
    "#위처럼 내장함수를 안쓴다면?! \n",
    "#첫번째 : 포문\n",
    "temp = []\n",
    "for i in [1,2,3,4,5]:\n",
    "    temp.append(i)"
   ]
  },
  {
   "cell_type": "code",
   "execution_count": 97,
   "metadata": {},
   "outputs": [
    {
     "data": {
      "text/plain": [
       "[2, 3, 4, 5, 6]"
      ]
     },
     "execution_count": 97,
     "metadata": {},
     "output_type": "execute_result"
    }
   ],
   "source": [
    "#두번째 : 컴프리핸션\n",
    "[x+1 for x in [1,2,3,4,5]]"
   ]
  },
  {
   "cell_type": "code",
   "execution_count": 98,
   "metadata": {},
   "outputs": [],
   "source": [
    "#성능 비교해보면 맵이 가장 성능 좋아!!! 코딩도 쉬워!!!! 빅데이터쓸 때 겁나 빨라져!!!"
   ]
  },
  {
   "cell_type": "code",
   "execution_count": 99,
   "metadata": {},
   "outputs": [
    {
     "data": {
      "text/plain": [
       "<filter at 0x104ad9828>"
      ]
     },
     "execution_count": 99,
     "metadata": {},
     "output_type": "execute_result"
    }
   ],
   "source": [
    "#filter--> iterable에 별표 안붙음, 즉 iterable 하나만 쓸 수 있음\n",
    "#predicate : 트루, 또는 폴스를 반환하는 함수\n",
    "filter(lambda x:x>3, [1,2,3,4,5,6])"
   ]
  },
  {
   "cell_type": "code",
   "execution_count": 101,
   "metadata": {},
   "outputs": [
    {
     "data": {
      "text/plain": [
       "(4, 5, 6)"
      ]
     },
     "execution_count": 101,
     "metadata": {},
     "output_type": "execute_result"
    }
   ],
   "source": [
    "tuple(filter(lambda x:x>3, [1,2,3,4,5,6]))  #원하는 데이터를 뽑아낼 때 사용한다! if보다 효율좋아"
   ]
  },
  {
   "cell_type": "code",
   "execution_count": 102,
   "metadata": {},
   "outputs": [],
   "source": [
    "#reduce\n",
    "from functools import reduce"
   ]
  },
  {
   "cell_type": "code",
   "execution_count": 104,
   "metadata": {},
   "outputs": [
    {
     "data": {
      "text/plain": [
       "15"
      ]
     },
     "execution_count": 104,
     "metadata": {},
     "output_type": "execute_result"
    }
   ],
   "source": [
    "reduce(lambda x,y:x+y, [1,2,3,4,5])  \n",
    "#reduction : 하나의 값으로 축소시키는 것\n",
    "#1,2 ->3  3,4 -> 7 "
   ]
  },
  {
   "cell_type": "code",
   "execution_count": 106,
   "metadata": {},
   "outputs": [],
   "source": [
    "#for를 쓰지않고도 한꺼번에 계산할 수 있는 기법, 즉 함수형 패러다임에서 자주 쓰는 기법ㅂ\n",
    "# 1.iterator, generator\n",
    "# 2.comprehension\n",
    "# 3.재귀\n",
    "# 4.내장함수\n",
    "\n",
    "#--> 메모리효율성, 시간효율성 좋아진다!"
   ]
  },
  {
   "cell_type": "code",
   "execution_count": null,
   "metadata": {},
   "outputs": [],
   "source": []
  },
  {
   "cell_type": "code",
   "execution_count": 107,
   "metadata": {},
   "outputs": [
    {
     "name": "stdout",
     "output_type": "stream",
     "text": [
      "(0, '영')\n",
      "(1, '서')\n",
      "(2, '짱')\n",
      "(3, ' ')\n",
      "(4, '영')\n",
      "(5, '서')\n",
      "(6, '짱')\n"
     ]
    }
   ],
   "source": [
    "#enumerator : index를 알고싶을 때 쓴다!\n",
    "\n",
    "a = '영서짱 영서짱'\n",
    "for i in enumerate(a):\n",
    "    print(i)"
   ]
  },
  {
   "cell_type": "code",
   "execution_count": 108,
   "metadata": {},
   "outputs": [
    {
     "name": "stdout",
     "output_type": "stream",
     "text": [
      "1 영\n",
      "2 서\n",
      "3 짱\n",
      "4  \n",
      "5 영\n",
      "6 서\n",
      "7 짱\n"
     ]
    }
   ],
   "source": [
    "# 두개짜리 튜플로 나옴. unpacking 가능\n",
    "for i,j in enumerate(a, 1):\n",
    "    print(i,j)"
   ]
  },
  {
   "cell_type": "code",
   "execution_count": null,
   "metadata": {},
   "outputs": [],
   "source": []
  },
  {
   "cell_type": "code",
   "execution_count": null,
   "metadata": {},
   "outputs": [],
   "source": []
  },
  {
   "cell_type": "code",
   "execution_count": 109,
   "metadata": {},
   "outputs": [],
   "source": [
    "#파이썬 함수는 객체다! = First Class Function\n",
    "#고급 파이썬 시작!"
   ]
  },
  {
   "cell_type": "code",
   "execution_count": 115,
   "metadata": {},
   "outputs": [
    {
     "name": "stdout",
     "output_type": "stream",
     "text": [
      "영서\n"
     ]
    },
    {
     "data": {
      "text/plain": [
       "'print'"
      ]
     },
     "execution_count": 115,
     "metadata": {},
     "output_type": "execute_result"
    }
   ],
   "source": [
    "#print를 a로 바꿔서도 쓸 수 있다. 함수 = 값 이기때문에 할당 가능\n",
    "a = print\n",
    "a('영서')\n",
    "a.__name__"
   ]
  },
  {
   "cell_type": "code",
   "execution_count": 1,
   "metadata": {},
   "outputs": [],
   "source": [
    "sum = 0\n",
    "for i in range(1,101):\n",
    "    sum+i\n",
    "    \n",
    "    \n",
    "#답은 나오지만, 이제부터 sum 함수 못씀 ㅋㅋ --> 함수=값이기 때문\n",
    "#따라서! 이름 지을때 조심해야함. "
   ]
  },
  {
   "cell_type": "code",
   "execution_count": 2,
   "metadata": {},
   "outputs": [],
   "source": [
    "def a(x):\n",
    "    print(x())"
   ]
  },
  {
   "cell_type": "code",
   "execution_count": 3,
   "metadata": {},
   "outputs": [
    {
     "name": "stdout",
     "output_type": "stream",
     "text": [
      "\n",
      "None\n"
     ]
    }
   ],
   "source": [
    "a(print)   #되긴 됨. 이 기법을 사용해서 closure, decorator 쓸 수 있음"
   ]
  },
  {
   "cell_type": "code",
   "execution_count": 123,
   "metadata": {},
   "outputs": [],
   "source": [
    "#함수 안에 함수 집어넣을 수 있다. = nasted 함수 = 중첩된 함수"
   ]
  },
  {
   "cell_type": "code",
   "execution_count": 125,
   "metadata": {},
   "outputs": [
    {
     "name": "stdout",
     "output_type": "stream",
     "text": [
      "1\n"
     ]
    }
   ],
   "source": [
    "x = 1\n",
    "def y():\n",
    "    print(x)\n",
    "    \n",
    "y()  # 굳이 x가 함수 안에 없어도 된다!"
   ]
  },
  {
   "cell_type": "code",
   "execution_count": 143,
   "metadata": {},
   "outputs": [],
   "source": [
    "#위 예시처럼 접근은 가능하짖만 ,변경은 불가능함\n",
    "#변경하려면 global 써줘야해.\n",
    "#global 써주면 싱크가 됨\n",
    "\n",
    "x = 1\n",
    "def y():\n",
    "    global x \n",
    "    x = x+1\n",
    "    print(x)\n",
    "    z = 1\n",
    "    "
   ]
  },
  {
   "cell_type": "code",
   "execution_count": 144,
   "metadata": {},
   "outputs": [
    {
     "name": "stdout",
     "output_type": "stream",
     "text": [
      "2\n"
     ]
    }
   ],
   "source": [
    "y()   \n",
    "#함수 실행 시 계속 값이 바뀜.\n",
    "#이런 코드 코드 짜면 싸대기맞음\n"
   ]
  },
  {
   "cell_type": "code",
   "execution_count": 145,
   "metadata": {},
   "outputs": [
    {
     "ename": "NameError",
     "evalue": "name 'z' is not defined",
     "output_type": "error",
     "traceback": [
      "\u001b[0;31m---------------------------------------------------------------------------\u001b[0m",
      "\u001b[0;31mNameError\u001b[0m                                 Traceback (most recent call last)",
      "\u001b[0;32m<ipython-input-145-3a710d2a84f8>\u001b[0m in \u001b[0;36m<module>\u001b[0;34m\u001b[0m\n\u001b[0;32m----> 1\u001b[0;31m \u001b[0mz\u001b[0m\u001b[0;34m\u001b[0m\u001b[0;34m\u001b[0m\u001b[0m\n\u001b[0m",
      "\u001b[0;31mNameError\u001b[0m: name 'z' is not defined"
     ]
    }
   ],
   "source": [
    "z  #NameError : 접근할 수 없다. 즉 함수 바깥에서 함수 안의 값에 접근 불가(encapsulation)"
   ]
  },
  {
   "cell_type": "code",
   "execution_count": 168,
   "metadata": {},
   "outputs": [
    {
     "data": {
      "text/plain": [
       "7"
      ]
     },
     "execution_count": 168,
     "metadata": {},
     "output_type": "execute_result"
    }
   ],
   "source": [
    "#Closure --> 함수 중첩이 가능하기 때문에 가능하다!\n",
    "\n",
    "def y(x):\n",
    "    def z(n):\n",
    "        return x+n\n",
    "    return z\n",
    "\n",
    "two_add = y(4)\n",
    "two_add(3)"
   ]
  },
  {
   "cell_type": "code",
   "execution_count": 169,
   "metadata": {},
   "outputs": [],
   "source": [
    "#first class function : 이게 조금 더 큰 범위 : 함수 자체를 인자로 다른 함수에 전달하거나 다른 함수의 결과값으로 리턴 할수도 있고, \n",
    "#함수를 변수에 할당하거나 데이터 구조안에 저장할 수 있는 함수\n",
    "#파이썬은 first class function을 지원함\n",
    "\n",
    "#higher-order function : 자바에서 지원"
   ]
  },
  {
   "cell_type": "code",
   "execution_count": null,
   "metadata": {},
   "outputs": [],
   "source": []
  },
  {
   "cell_type": "code",
   "execution_count": 175,
   "metadata": {},
   "outputs": [
    {
     "name": "stdout",
     "output_type": "stream",
     "text": [
      "Overwriting moon.txt\n"
     ]
    }
   ],
   "source": [
    "%%writefile moon.txt \n",
    "adsfads\n",
    "asdfa\n",
    "dsfa\n",
    "dsfads\n",
    "fa\n",
    "dsf\n",
    "\n"
   ]
  },
  {
   "cell_type": "code",
   "execution_count": 176,
   "metadata": {},
   "outputs": [],
   "source": [
    "a = open('moon.txt')"
   ]
  },
  {
   "cell_type": "code",
   "execution_count": 178,
   "metadata": {},
   "outputs": [
    {
     "data": {
      "text/plain": [
       "'asdfa\\n'"
      ]
     },
     "execution_count": 178,
     "metadata": {},
     "output_type": "execute_result"
    }
   ],
   "source": [
    "next(a)  # generator임 ㅋㅋ"
   ]
  },
  {
   "cell_type": "code",
   "execution_count": null,
   "metadata": {},
   "outputs": [],
   "source": []
  },
  {
   "cell_type": "code",
   "execution_count": 179,
   "metadata": {},
   "outputs": [],
   "source": [
    "#덕 타이핑 : 상속을 받지 않아도 이름이 같으면 상속받은 걸로 간주한다."
   ]
  },
  {
   "cell_type": "code",
   "execution_count": null,
   "metadata": {},
   "outputs": [],
   "source": []
  },
  {
   "cell_type": "code",
   "execution_count": 180,
   "metadata": {},
   "outputs": [
    {
     "ename": "AssertionError",
     "evalue": "",
     "output_type": "error",
     "traceback": [
      "\u001b[0;31m---------------------------------------------------------------------------\u001b[0m",
      "\u001b[0;31mAssertionError\u001b[0m                            Traceback (most recent call last)",
      "\u001b[0;32m<ipython-input-180-18e6644a13b1>\u001b[0m in \u001b[0;36m<module>\u001b[0;34m\u001b[0m\n\u001b[1;32m      1\u001b[0m \u001b[0;31m#assert : 값이 폴스면 에러발생시킴\u001b[0m\u001b[0;34m\u001b[0m\u001b[0;34m\u001b[0m\u001b[0;34m\u001b[0m\u001b[0m\n\u001b[1;32m      2\u001b[0m \u001b[0ma\u001b[0m \u001b[0;34m=\u001b[0m \u001b[0;36m1\u001b[0m\u001b[0;34m\u001b[0m\u001b[0;34m\u001b[0m\u001b[0m\n\u001b[0;32m----> 3\u001b[0;31m \u001b[0;32massert\u001b[0m \u001b[0ma\u001b[0m\u001b[0;34m>\u001b[0m\u001b[0;36m2\u001b[0m\u001b[0;34m\u001b[0m\u001b[0;34m\u001b[0m\u001b[0m\n\u001b[0m",
      "\u001b[0;31mAssertionError\u001b[0m: "
     ]
    }
   ],
   "source": [
    "#assert : 값이 폴스면 에러발생시킴  --> 디버깅 기법   (참이면 아무것도 안함)\n",
    "a = 1\n",
    "assert a>2"
   ]
  },
  {
   "cell_type": "code",
   "execution_count": 182,
   "metadata": {},
   "outputs": [
    {
     "data": {
      "text/plain": [
       "3"
      ]
     },
     "execution_count": 182,
     "metadata": {},
     "output_type": "execute_result"
    }
   ],
   "source": [
    "from operator import add, mul, sub\n",
    "\n",
    "add(3,4)"
   ]
  },
  {
   "cell_type": "code",
   "execution_count": 183,
   "metadata": {},
   "outputs": [
    {
     "data": {
      "text/plain": [
       "28"
      ]
     },
     "execution_count": 183,
     "metadata": {},
     "output_type": "execute_result"
    }
   ],
   "source": [
    "mul(4,7)"
   ]
  },
  {
   "cell_type": "code",
   "execution_count": 184,
   "metadata": {},
   "outputs": [
    {
     "data": {
      "text/plain": [
       "3"
      ]
     },
     "execution_count": 184,
     "metadata": {},
     "output_type": "execute_result"
    }
   ],
   "source": [
    "#sub(4,1)"
   ]
  },
  {
   "cell_type": "code",
   "execution_count": 185,
   "metadata": {},
   "outputs": [
    {
     "name": "stdout",
     "output_type": "stream",
     "text": [
      "0\n",
      "1\n",
      "2\n",
      "3\n",
      "4\n",
      "5\n",
      "6\n",
      "7\n",
      "8\n",
      "9\n"
     ]
    }
   ],
   "source": [
    "#for를 안쓰는 이유 한가지 더!\n",
    "\n",
    "for z in range(10):\n",
    "    print(z)"
   ]
  },
  {
   "cell_type": "code",
   "execution_count": 186,
   "metadata": {},
   "outputs": [
    {
     "data": {
      "text/plain": [
       "9"
      ]
     },
     "execution_count": 186,
     "metadata": {},
     "output_type": "execute_result"
    }
   ],
   "source": [
    "z #값이 살아남음"
   ]
  },
  {
   "cell_type": "code",
   "execution_count": 187,
   "metadata": {},
   "outputs": [
    {
     "data": {
      "text/plain": [
       "[0, 1, 2, 3, 4, 5, 6, 7, 8, 9]"
      ]
     },
     "execution_count": 187,
     "metadata": {},
     "output_type": "execute_result"
    }
   ],
   "source": [
    "[zz for zz in range(10)]  # comprehension을 쓰면 ?! "
   ]
  },
  {
   "cell_type": "code",
   "execution_count": 188,
   "metadata": {},
   "outputs": [
    {
     "ename": "NameError",
     "evalue": "name 'zz' is not defined",
     "output_type": "error",
     "traceback": [
      "\u001b[0;31m---------------------------------------------------------------------------\u001b[0m",
      "\u001b[0;31mNameError\u001b[0m                                 Traceback (most recent call last)",
      "\u001b[0;32m<ipython-input-188-15546de8c3b0>\u001b[0m in \u001b[0;36m<module>\u001b[0;34m\u001b[0m\n\u001b[0;32m----> 1\u001b[0;31m \u001b[0mzz\u001b[0m\u001b[0;34m\u001b[0m\u001b[0;34m\u001b[0m\u001b[0m\n\u001b[0m",
      "\u001b[0;31mNameError\u001b[0m: name 'zz' is not defined"
     ]
    }
   ],
   "source": [
    "zz  #값이 안살아남음. 귀찮은 일 줄여줌"
   ]
  },
  {
   "cell_type": "code",
   "execution_count": null,
   "metadata": {},
   "outputs": [],
   "source": []
  },
  {
   "cell_type": "code",
   "execution_count": 190,
   "metadata": {},
   "outputs": [],
   "source": [
    "# _ 쓸 때 조심하기! 값이 계속 변하기 때문"
   ]
  },
  {
   "cell_type": "code",
   "execution_count": 191,
   "metadata": {},
   "outputs": [
    {
     "data": {
      "text/plain": [
       "3"
      ]
     },
     "execution_count": 191,
     "metadata": {},
     "output_type": "execute_result"
    }
   ],
   "source": [
    "3"
   ]
  },
  {
   "cell_type": "code",
   "execution_count": 192,
   "metadata": {},
   "outputs": [
    {
     "data": {
      "text/plain": [
       "3"
      ]
     },
     "execution_count": 192,
     "metadata": {},
     "output_type": "execute_result"
    }
   ],
   "source": [
    "_"
   ]
  },
  {
   "cell_type": "code",
   "execution_count": 193,
   "metadata": {},
   "outputs": [
    {
     "data": {
      "text/plain": [
       "1"
      ]
     },
     "execution_count": 193,
     "metadata": {},
     "output_type": "execute_result"
    }
   ],
   "source": [
    "1"
   ]
  },
  {
   "cell_type": "code",
   "execution_count": 194,
   "metadata": {},
   "outputs": [
    {
     "data": {
      "text/plain": [
       "1"
      ]
     },
     "execution_count": 194,
     "metadata": {},
     "output_type": "execute_result"
    }
   ],
   "source": [
    "_"
   ]
  },
  {
   "cell_type": "code",
   "execution_count": 195,
   "metadata": {},
   "outputs": [],
   "source": [
    "_=4"
   ]
  },
  {
   "cell_type": "code",
   "execution_count": 196,
   "metadata": {},
   "outputs": [
    {
     "data": {
      "text/plain": [
       "4"
      ]
     },
     "execution_count": 196,
     "metadata": {},
     "output_type": "execute_result"
    }
   ],
   "source": [
    "_"
   ]
  },
  {
   "cell_type": "code",
   "execution_count": 197,
   "metadata": {
    "collapsed": true
   },
   "outputs": [
    {
     "name": "stdout",
     "output_type": "stream",
     "text": [
      "a = int(input()) #함수형 프로그래밍 : 모든 것을 함수로 하는 것.\n",
      "a = input(a)\n",
      "a = int(a)  #절차적 프로그래밍\n",
      "import time\n",
      "import time\n",
      "def (a=time.time):\n",
      "    return a\n",
      "import time\n",
      "def (a=time.time)():\n",
      "    return a\n",
      "import time\n",
      "def x(a=time.time()):\n",
      "    return a\n",
      "time.time()\n",
      "#파이썬의 특징(함수형 패러다임)\n",
      "#멀티 패러다임 : 문제를 해결하기 위한 다양한 방법이 존재\n",
      "#파이썬은 순수한 함수형 패러다임 언어가 아님. 객체지향의 함수형 패러다임을 지원해주는 것임.\n",
      "#즉, 일부러 함수형 패러다임에 집착할 필요가 없다! 필요한 부분만 갖다 쓰자\n",
      "#파이썬은 기본적으로 객체지향 언어. 이것만으로 해결할 수 없어서 함수형 패러다임을 지원해 주게 된 것. \n",
      "#모듈화되어 있음. --> 다른 함수랑 결합할 수 있다!\n",
      "#iterable : 순회 가능한 것. 즉 for에서 하나하나씩 돌아가는 애. iterator가 될 수 있는 애.\n",
      "for i in [1,2,3]:\n",
      "    print(i)\n",
      "a = [1,2,3]\n",
      "b = iter(a)\n",
      "type(b)\n",
      "a = [1,2,3]\n",
      "b = iter(a)\n",
      "type(b)\n",
      "next(b)\n",
      "a = [1,2,3]\n",
      "b = iter(a)\n",
      "type(b)\n",
      "next(b)\n",
      "next(b)\n",
      "next(b)\n",
      "next(b)\n",
      "#즉, iterator란 한개씩 뽑아내는 애\n",
      "#for문 돌면서 iterator가 하나씩 뽑혀나오고, next가 실행된다\n",
      "#그럼 iterator의 장점은?\n",
      "#Lazy 기법 :실행되기 전에는 X 실행될 때 메모리상에 올림, 한번에 데이터 올리면 뻑나기때문에 이건 장점이야! \n",
      "#일반적으로 속도는 느린데, 파이썬에서는 최적화해놔서 속도도 좋음\n",
      "b\n",
      "list(b)\n",
      "a = [1,2,3]\n",
      "b = iter(a)\n",
      "next(b)\n",
      "list(b)\n",
      "a = [1,2,3]\n",
      "b = iter(a)\n",
      "next(b)\n",
      "list(b)\n",
      "a = [1,2,3]\n",
      "b = iter(a)\n",
      "next(b)\n",
      "list(b)\n",
      "#즉, next는 앞에서부터 뽑아냄. vs pop은 뒤에서부터 뽑아냄\n",
      "import dis #분리시키는 것\n",
      "def iterator_exam():\n",
      "    for i in [1,2,3]:\n",
      "        print(i)\n",
      "dis.dis(iterator_exam)\n",
      "a = {1,2,3}\n",
      "b = iter(a)\n",
      "type(b)\n",
      "a = '영서짱'\n",
      "b = iter(a)\n",
      "type(b)\n",
      "b\n",
      "next(b)\n",
      "#int는 클래스, iter는 함수임\n",
      "#기본적으로 값을 만드는 방법은 두가지임.\n",
      "a = 1.3 \n",
      "a = [1,2,3]\n",
      "a = r'ab\\n'  #raw형태\n",
      "a = b'ab\\n' #바이트형태\n",
      "print(a)\n",
      "#기호에 따라서 내부적으로 타입이 체크됨. -->literal 기법\n",
      "#int는 클래스, iter는 함수임\n",
      "#기본적으로 값을 만드는 방법은 두가지임.\n",
      "a = 1.3 \n",
      "a = [1,2,3]\n",
      "a = r'ab\\n'  #raw형태\n",
      "print(a)\n",
      "a = b'ab\\n' #바이트형태\n",
      "print(a)\n",
      "#기호에 따라서 내부적으로 타입이 체크됨. -->literal 기법\n",
      "#int는 클래스, iter는 함수임\n",
      "#기본적으로 값을 만드는 방법은 두가지임.\n",
      "a = 1.3 \n",
      "a = [1,2,3]\n",
      "a = r'ab\\n'  #raw형태\n",
      "print(a)\n",
      "a = b'ab' #바이트형태\n",
      "print(a)\n",
      "#기호에 따라서 내부적으로 타입이 체크됨. -->literal 기법\n",
      "#int는 클래스, iter는 함수임\n",
      "#기본적으로 값을 만드는 방법은 두가지임.\n",
      "a = 1.3 \n",
      "a = [1,2,3]\n",
      "a = r'ab\\n'  #raw형태\n",
      "print(a)\n",
      "a = f'ab' #바이트형태\n",
      "print(a)\n",
      "#기호에 따라서 내부적으로 타입이 체크됨. -->literal 기법\n",
      "#객체지향 : 클래스를 인스턴스화시킴\n",
      "#내장 객체 : 클래스 이름 맨앞에 소문자, 외부객체 : 클래스이름 맨 앞에 대문자\n",
      "type(a) #type 쳤을때 나오는 게 클래스\n",
      "type(a)\n",
      "a = int()\n",
      "a\n",
      "b = list()\n",
      "b\n",
      "b = set()\n",
      "b = set()\n",
      "b\n",
      "b = list()\n",
      "b\n",
      "a = int()\n",
      "a   #false값이 기본적으로 나옴\n",
      "a = int('3')  # type conversion 방식이아님, 인스턴스방식으로 새로생성한것\n",
      "#iter는 예외적인 type conversion방식임!\n",
      "#iter, generator는 next밖에 쓸게 없음\n",
      "def generator_exam():\n",
      "    yield 1\n",
      "    yield 2\n",
      "    yield 3\n",
      "x = generator_exam()\n",
      "x = generator_exam()\n",
      "x\n",
      "next(x)\n",
      "next(x)\n",
      "next(x)\n",
      "next(x)\n",
      "#from은 두가지 방법 존재.\n",
      "#첫번째\n",
      "def generator_exam():\n",
      "    yield from [1,2,3,4]\n",
      "[x for x in range(10)]\n",
      "%timeit [x for x in range(10)]\n",
      "%timeit [x for x in range(10)]\n",
      "%timeit [x for x in range(10)]\n",
      "%%timeit \n",
      "temp = []\n",
      "for i in range(10):\n",
      "    temp.append(i)\n",
      "# comprehension 방식이 훨씬 빠르다! 내부적으로 최적화 돼있기 때문에\n",
      "#응용도 할 수 있음!\n",
      "[str(x) for x in range(10)]\n",
      "# comprehension 방식이 훨씬 빠르다! 내부적으로 최적화 돼있기 때문에\n",
      "# 응용도 할 수 있음!\n",
      "[str(x) for x in range(10)]  #값을 초기화할 때 아주 많이 쓴다!\n",
      "\n",
      "#if응용법 2개\n",
      "[x for x in range(10) if x%2==0] \n",
      "[x if x%2==0 else 3 for x in range(10)]\n",
      "# 파이썬은 값을 왼쪽에서 오른쪽으로 계산함!\n",
      "a = [(x,y) for x in range(1,11) for y in range(10)]\n",
      "a\n",
      "tuple(a) = [(x,y) for x in range(1,11) for y in range(10)]\n",
      "a = [(x,y) for x in range(1,11) for y in range(10)]\n",
      "type(a)\n",
      "a = {(x,y) for x in range(1,11) for y in range(10)}\n",
      "type(a)\n",
      "a = {(x,y) for x in range(1,11) for y in range(10)} #set 가능\n",
      "type(a)\n",
      "a = {(x:1 for x in range(1,11) for y in range(10)}\n",
      "a = {(x,y) for x in range(1,11) for y in range(10)} #set 가능\n",
      "type(a)\n",
      "a = {(x:y for x in range(1,11) for y in range(10)}\n",
      "a = {(x,y) for x in range(1,11) for y in range(10)} #set 가능\n",
      "type(a)\n",
      "a = {(x:1 for x in range(1,11))}\n",
      "a = {(x,y) for x in range(1,11) for y in range(10)} #set 가능\n",
      "type(a)\n",
      "a = {(x:1) for x in range(1,11)}\n",
      "a = {(x,y) for x in range(1,11) for y in range(10)} #set 가능\n",
      "type(a)\n",
      "a = {{x:1} for x in range(1,11)}\n",
      "a = {(x,y) for x in range(1,11) for y in range(10)} #set 가능\n",
      "type(a)\n",
      "a = {{x:y} for x in range(1,11) for y in range(10)}\n",
      "a = {(x,y) for x in range(1,11) for y in range(10)} #set 가능\n",
      "type(a)\n",
      "#dictionary 예제 놓침\n",
      "# comprehension 방식이 훨씬 빠르다! 내부적으로 최적화 돼있기 때문에\n",
      "# comprehension은 세가지 방식 존재. list, set, dictionary (tuple은 안된다! generator임)\n",
      "# 값을 초기화할 때 아주 많이 쓴다!\n",
      "# 응용도 할 수 있음!\n",
      "# for문을 쓰지않고 동시에 여러 데이터를 빠르게 만드는 기법\n",
      "\n",
      "[str(x) for x in range(10)]  \n",
      "\n",
      "#if응용법 2개\n",
      "[x for x in range(10) if x%2==0] \n",
      "[x if x%2==0 else 3 for x in range(10)]\n",
      "# 파이썬은 값을 왼쪽에서 오른쪽으로 계산함!\n",
      "\n",
      "#식은 식끼리 붙일 수 있다!\n",
      "[(x,y) for x in range(1,11) for y in range(10)]  #백터에서 2차원배열 중첩시킬 때 사용 가능\n",
      "\n",
      "a = {(x,y) for x in range(1,11) for y in range(10)} #set 가능\n",
      "type(a)\n",
      "#dictionary 예제 놓침\n",
      "%%timeit \n",
      "temp = []\n",
      "for i in range(10):\n",
      "    temp.append(i)\n",
      "    \n",
      "%%timeit \n",
      "temp = []\n",
      "for i in iter(range(10)):\n",
      "    temp.append(i)\n",
      "\n",
      "temp = []\n",
      "for i in range(10):\n",
      "    temp.append(i)\n",
      "    \n",
      " \n",
      "for i in iter(range(10)):\n",
      "    temp.append(i)\n",
      "\n",
      "temp = []\n",
      "for i in range(10):\n",
      "    temp.append(i)\n",
      "    \n",
      "for i in iter(range(10)):\n",
      "    temp.append(i)\n",
      "from collections.abc import Iterable\n",
      "from collections.abc import Iterator\n",
      "\n",
      "set(dir(Iterator)) - set(dir(Iterable))  #둘의 차이는 next를 쓸 수 있느냐 없느냐. 즉 iterable쓰는 자리에 iterator 쓸수 있음\n",
      "%timeit sum([x for x in range(1,11)])  #list comprehension\n",
      "%timeit sum([1,2,3,4,5,6,7,8,9,10])\n",
      "%timeit sum([x for x in range(1,11)])  #generator\n",
      "%timeit sum(x for x in range(1,11))  #generator tuple 생성 --> 함수 안에 쓸 때는 괄호를 생략해도 됨\n",
      "#식 다시한번 정리\n",
      "#식 : 하나의 값으로 축약 가능한 것\n",
      "#식끼리 결합 가능\n",
      "#함수 argument로 들어갈 수 있음\n",
      "#함수형 패러다임에선 재귀함수를 매우 자주 씀\n",
      "\n",
      "def fibo(n):\n",
      "    if n<3:\n",
      "        return 1\n",
      "    return fibo(n-1)+fibo(n-2)\n",
      "#함수형 패러다임에선 재귀함수를 매우 자주 씀\n",
      "\n",
      "def fibo(n):\n",
      "    if n<3:\n",
      "        return 1\n",
      "    return fibo(n-1)+fibo(n-2)\n",
      "\n",
      "fibo(3)\n",
      "#함수형 패러다임에선 재귀함수를 매우 자주 씀\n",
      "\n",
      "def fibo(n):\n",
      "    if n<3:\n",
      "        return 1\n",
      "    return fibo(n-1)+fibo(n-2)\n",
      "\n",
      "fibo(3)\n",
      "fibo.x = 3\n",
      "#함수형 패러다임에선 재귀함수를 매우 자주 씀\n",
      "\n",
      "def fibo(n):\n",
      "    if n<3:\n",
      "        return 1\n",
      "    return fibo(n-1)+fibo(n-2)\n",
      "\n",
      "fibo(3)\n",
      "fibo.x = 3\n",
      "#함수형 패러다임에선 재귀함수를 매우 자주 씀\n",
      "\n",
      "def fibo(n):\n",
      "    if n<3:\n",
      "        return 1\n",
      "    return fibo(n-1)+fibo(n-2)\n",
      "\n",
      "fibo(3)\n",
      "#파이썬은 언어 자체에서 꼬리 재귀를 제공하진 않아.\n",
      "#꼬리재귀란? 트리형식의 재귀 구조를 일렬로 만들어서 반복계산을 줄여 주는 것\n",
      "#따라서 실무 파이썬에서는 재귀쓰면안돼!!!\n",
      "#내장함수1!!!!!!! 개념 매우중요\n",
      "#삼총사 map ,filter, reduce\n",
      "\n",
      "def add_one(x):\n",
      "    return x+1\n",
      "map(add_one, [1,2,3,4,5])\n",
      "list(map(add_one, [1,2,3,4,5]))\n",
      "#람다 = 함수 식 = 함수 인자로 집어넣을 수 있다\n",
      "list(map(lambda x:x+1, [1,2,3,4,5]))\n",
      "#위처럼 내짱함수를 안쓴다면?! \n",
      "#첫번ㅉ재\n",
      "temp = []\n",
      "for i in [1,2,3,4,5]:\n",
      "    temp.append(i)\n",
      "#두번째 : 컴프리핸션\n",
      "[x+1 for x in [1,2,3,4,5]]\n",
      "#성능 비교해보면 맵이 가장 성능 좋아!!! 코딩도 쉬워!!!! 빅데이터쓸 때 겁나 빨라져!!!\n",
      "#filter--> iterable에 별표 안붙음, 즉 iterable 하나만 쓸 수 있음\n",
      "#predicate : 트루, 또는 폴스를 반환하는 함수\n",
      "filter(lambda x:x>3, [1,2,3,4,5,6])\n",
      "tuple(filter(lambda x:x>3, [1,2,3,4,5,6]))\n",
      "tuple(filter(lambda x:x>3, [1,2,3,4,5,6]))  #원하는 데이터를 뽑아낼 때 사용한다! if보다 효율좋아\n",
      "#reduce\n",
      "from functools import reduce\n",
      "reduce(lambda x,y:x+y, [1,2,3,4,5])\n",
      "reduce(lambda x,y:x+y, [1,2,3,4,5])  #reduction : 하나의 값으로 축소시키는 것\n",
      "#1,2 ->3  3,4 -> 7\n",
      "#iterator, generator\n",
      "#comprehension\n",
      "#재귀\n",
      "#내장함수\n",
      "#for를 쓰지않고도 한꺼번에 계산할 수 있는 기법, 즉 함수형 패러다임에서 자주 쓰는 기법ㅂ\n",
      "# 1.iterator, generator\n",
      "# 2.comprehension\n",
      "# 3.재귀\n",
      "# 4.내장함수\n",
      "\n",
      "#--> 메모리효율성, 시간효율성 좋아진다!\n",
      "#enumerator는 가장많이쓰는 애 중 하나이다.\n",
      "\n",
      "a = '영서짱 영서짱'\n",
      "for i in enumerate(a):\n",
      "    print(i)\n",
      "# 두개짜리 튜플로 나옴. unpacking 가능\n",
      "for i,j in enumerate(a, 1):\n",
      "    print(i,j)\n",
      "#파이썬 함수는 객체다! = First Class Function\n",
      "#고급 파이썬 시작!\n",
      "a = print\n",
      "a\n",
      "a('정영서')\n",
      "a.__name__\n",
      "a = print\n",
      "a('영서')\n",
      "a.__name__\n",
      "a = print\n",
      "a('영서')\n",
      "a.__name__\n",
      "sum = 0\n",
      "sum\n",
      "del sum\n",
      "sum = 0\n",
      "for i in range(1,101):\n",
      "    sum+i\n",
      "sum = 0\n",
      "for i in range(1,101):\n",
      "    sum+i\n",
      "    \n",
      "    \n",
      "#답은 나오지만, 이제부터 sum 함수 못씀 ㅋㅋ 이름 지을때 조심해야함.\n",
      "def a(x):\n",
      "    print(x())\n",
      "a(print)\n",
      "#함수 안에 함수 집어넣을 수 있다. = nasted 함수 = 중첩된 함수\n",
      "x = 1\n",
      "def y():\n",
      "    print(x)\n",
      "x = 1\n",
      "def y():\n",
      "    print(x)\n",
      "    \n",
      "y()\n",
      "x = 1\n",
      "def y():\n",
      "    x = 2\n",
      "    print(x)\n",
      "    \n",
      "y()  # 굳이 x가 함수 안에 없어도 된다!\n",
      "x = 1\n",
      "def y():\n",
      "    x = ㅌ+1\n",
      "    print(x)\n",
      "    \n",
      "y()\n",
      "x = 1\n",
      "def y():\n",
      "    x = x+1\n",
      "    print(x)\n",
      "    \n",
      "y()\n",
      "x = 1\n",
      "def y():\n",
      "    global x = x+1\n",
      "    print(x)\n",
      "    \n",
      "y()\n",
      "x = 1\n",
      "def y():\n",
      "    global x++\n",
      "    print(x)\n",
      "    \n",
      "y()\n",
      "x = 1\n",
      "def y():\n",
      "    global x+1\n",
      "    print(x)\n",
      "    \n",
      "y()\n",
      "x = 1\n",
      "def y():\n",
      "    global x = x+1\n",
      "\n",
      "    print(x)\n",
      "    \n",
      "y()\n",
      "x = 1\n",
      "def y():\n",
      "    global x \n",
      "\n",
      "    print(x)\n",
      "    \n",
      "y()\n",
      "x = 1\n",
      "def y():\n",
      "    global x \n",
      "    x = x+1\n",
      "    print(x)\n",
      "    \n",
      "y()\n",
      "y()\n",
      "y()\n",
      "y()\n",
      "y()\n",
      "#위 예시처럼 접근은 가능하짖만 ,변경은 불가능함\n",
      "#변경하려면 global 써줘야해.\n",
      "#global 써주면 싱크가 됨\n",
      "\n",
      "x = 1\n",
      "def y():\n",
      "    #global x \n",
      "    x = x+1\n",
      "    print(x)\n",
      "y()   \n",
      "#함수 실행 시 계속 값이 바뀜.\n",
      "#이런 코드 코드 짜면 싸대기맞음\n",
      "#위 예시처럼 접근은 가능하짖만 ,변경은 불가능함\n",
      "#변경하려면 global 써줘야해.\n",
      "#global 써주면 싱크가 됨\n",
      "\n",
      "x = 1\n",
      "def y():\n",
      "    global x \n",
      "    x = x+1\n",
      "    print(x)\n",
      "y()   \n",
      "#함수 실행 시 계속 값이 바뀜.\n",
      "#이런 코드 코드 짜면 싸대기맞음\n",
      "#위 예시처럼 접근은 가능하짖만 ,변경은 불가능함\n",
      "#변경하려면 global 써줘야해.\n",
      "#global 써주면 싱크가 됨\n",
      "\n",
      "x = 1\n",
      "def y():\n",
      "    global x \n",
      "    x = x+1\n",
      "    print(x)\n",
      "    z = 1\n",
      "y()   \n",
      "#함수 실행 시 계속 값이 바뀜.\n",
      "#이런 코드 코드 짜면 싸대기맞음\n",
      "z\n",
      "def y():\n",
      "    print(x)\n",
      "y.z = 3\n",
      "y()\n",
      "def y():\n",
      "    def z():\n",
      "        return 1\n",
      "    return z()\n",
      "y()\n",
      "#함수는 중첩될 수 있다! \n",
      "\n",
      "def y():\n",
      "    def z():\n",
      "        return 1\n",
      "    return z\n",
      "y()\n",
      "y()()\n",
      "y(_\n",
      "y()\n",
      "y(3)()  #괄호를 한번만쓰면 값이 안나와\n",
      "#함수는 중첩될 수 있다! \n",
      "\n",
      "def y(x):\n",
      "    def z():\n",
      "        return 1\n",
      "    return z\n",
      "y(3)()  #괄호를 한번만쓰면 값이 안나와\n",
      "#함수는 중첩될 수 있다! \n",
      "\n",
      "def y(x):\n",
      "    def z():\n",
      "        return x+1\n",
      "    return z\n",
      "y(3)()  #괄호를 한번만쓰면 값이 안나와\n",
      "y(3) #괄호를 한번만쓰면 값이 안나와\n",
      "#함수는 중첩될 수 있다! \n",
      "\n",
      "def y(x):\n",
      "    def z(n):\n",
      "        return x+n\n",
      "    return z\n",
      "y(3)() #괄호를 한번만쓰면 값이 안나와\n",
      "#함수는 중첩될 수 있다! \n",
      "\n",
      "def y(x):\n",
      "    def z(n):\n",
      "        return x+n\n",
      "    return z\n",
      "y(3)(2) #괄호를 한번만쓰면 값이 안나와\n",
      "two_add = y(4)\n",
      "two_add(3)\n",
      "#closure\n",
      "#Closure --> 함수 중첩이 가능하기 때문에 가능하다!\n",
      "\n",
      "def y(x):\n",
      "    def z(n):\n",
      "        return x+n\n",
      "    return z\n",
      "\n",
      "two_add = y(4)\n",
      "two_add(3)\n",
      "#first class function : 이게 조금 더 큰 범위 : 함수 자체를 인자로 다른 함수에 전달하거나 다른 함수의 결과값으로 리턴 할수도 있고, \n",
      "#함수를 변수에 할당하거나 데이터 구조안에 저장할 수 있는 함수\n",
      "#파이썬은 first class function을 지원함\n",
      "\n",
      "#higher-order function : 자바에서 지원\n",
      "%%wirtefile moon.txt #moon.txt를 만들어주는 기능\n",
      "adsfads\n",
      "asdfa\n",
      "dsfa\n",
      "dsfads\n",
      "fa\n",
      "dsf\n",
      "%%writefile moon.txt #moon.txt를 만들어주는 기능\n",
      "adsfads\n",
      "asdfa\n",
      "dsfa\n",
      "dsfads\n",
      "fa\n",
      "dsf\n",
      "%%writefile moon.txt #moon.txt를 만들어주는 기능\n",
      "adsfads\n",
      "asdfa\n",
      "dsfa\n",
      "dsfads\n",
      "fa\n",
      "dsf\n",
      "%%writefile moon.txt \n",
      "adsfads\n",
      "asdfa\n",
      "dsfa\n",
      "dsfads\n",
      "fa\n",
      "dsf\n",
      "#moon.txt\n",
      "%%writefile moon.txt \n",
      "adsfads\n",
      "asdfa\n",
      "dsfa\n",
      "dsfads\n",
      "fa\n",
      "dsf\n",
      "%%writefile moon.txt \n",
      "adsfads\n",
      "asdfa\n",
      "dsfa\n",
      "dsfads\n",
      "fa\n",
      "dsf\n",
      "a = open('moon.txt')\n",
      "next(a)\n",
      "next(a)  # generator임 ㅋㅋ\n",
      "#덕 타이핑 : 상속을 받지 않아도 이름이 같으면 상속받은 걸로 간주한다.\n",
      "#assert : 값이 폴스면 에러발생시킴\n",
      "a = 1\n",
      "assert a>2\n",
      "from operator import add, mul\n",
      "\n",
      "add(3,4)\n",
      "from operator import add, mul, sub\n",
      "\n",
      "add(3,4)\n",
      "mul(4,7)\n",
      "sub(4,1)\n",
      "mul(4,7)\n",
      "sub(4,1)\n",
      "for z in range(10):\n",
      "    print(z)\n",
      "z\n",
      "[zz for zz in range(10)]\n",
      "zz\n",
      "_\n",
      "# _ 쓸 때 조심하기! 값이 계속 변하기 때문\n",
      "3\n",
      "_\n",
      "1\n",
      "_\n",
      "_=4\n",
      "_\n",
      "#_ 말고 %history 쓰자! 이때까지 썼던거 다나옴\n",
      "%history\n"
     ]
    }
   ],
   "source": [
    "#_ 말고 %history 쓰자! 이때까지 썼던거 다나옴. O 치면 사라짐. shift+o : 스크롤되게 볼 수 있음 \n",
    "%history"
   ]
  },
  {
   "cell_type": "code",
   "execution_count": 198,
   "metadata": {},
   "outputs": [
    {
     "data": {
      "text/plain": [
       "True"
      ]
     },
     "execution_count": 198,
     "metadata": {},
     "output_type": "execute_result"
    }
   ],
   "source": [
    "# callable : 호출할 수 있냐 없냐, 즉 괄호를 붙일 수 있냐 없냐\n",
    "callable(int)  #class도 가능"
   ]
  },
  {
   "cell_type": "code",
   "execution_count": 199,
   "metadata": {},
   "outputs": [],
   "source": [
    "def x(a):\n",
    "    return a"
   ]
  },
  {
   "cell_type": "code",
   "execution_count": 200,
   "metadata": {},
   "outputs": [],
   "source": [
    "y = lambda a: a"
   ]
  },
  {
   "cell_type": "code",
   "execution_count": 201,
   "metadata": {},
   "outputs": [
    {
     "data": {
      "text/plain": [
       "<function __main__.x(a)>"
      ]
     },
     "execution_count": 201,
     "metadata": {},
     "output_type": "execute_result"
    }
   ],
   "source": [
    "x"
   ]
  },
  {
   "cell_type": "code",
   "execution_count": 202,
   "metadata": {},
   "outputs": [
    {
     "data": {
      "text/plain": [
       "<function __main__.<lambda>(a)>"
      ]
     },
     "execution_count": 202,
     "metadata": {},
     "output_type": "execute_result"
    }
   ],
   "source": [
    "y"
   ]
  },
  {
   "cell_type": "code",
   "execution_count": 203,
   "metadata": {},
   "outputs": [],
   "source": [
    "#--> 행동은 똑같지만 내부 구현은 달라!"
   ]
  },
  {
   "cell_type": "code",
   "execution_count": 205,
   "metadata": {},
   "outputs": [
    {
     "data": {
      "text/plain": [
       "'x'"
      ]
     },
     "execution_count": 205,
     "metadata": {},
     "output_type": "execute_result"
    }
   ],
   "source": [
    "x.__name__"
   ]
  },
  {
   "cell_type": "code",
   "execution_count": 206,
   "metadata": {},
   "outputs": [
    {
     "data": {
      "text/plain": [
       "'<lambda>'"
      ]
     },
     "execution_count": 206,
     "metadata": {},
     "output_type": "execute_result"
    }
   ],
   "source": [
    "y.__name__"
   ]
  },
  {
   "cell_type": "code",
   "execution_count": 207,
   "metadata": {},
   "outputs": [],
   "source": [
    "#--> 즉 lambda는 익명 함수!"
   ]
  },
  {
   "cell_type": "code",
   "execution_count": 208,
   "metadata": {},
   "outputs": [],
   "source": [
    "#closure : 함수중첩 가능하므로 만들어짖는 기능ㅇ\n",
    "#decorator : 얘도 함수를 중첩시키는데, 기능을 바꿔주는 역할을 함\n"
   ]
  },
  {
   "cell_type": "code",
   "execution_count": 209,
   "metadata": {},
   "outputs": [],
   "source": [
    "# cycle : while문 써서 ㄱㅖ속 돌린거\n",
    "from itertools import cycle"
   ]
  },
  {
   "cell_type": "code",
   "execution_count": 210,
   "metadata": {},
   "outputs": [],
   "source": [
    "a = cycle([1,2,3])"
   ]
  },
  {
   "cell_type": "code",
   "execution_count": 211,
   "metadata": {},
   "outputs": [
    {
     "data": {
      "text/plain": [
       "1"
      ]
     },
     "execution_count": 211,
     "metadata": {},
     "output_type": "execute_result"
    }
   ],
   "source": [
    "next(a)"
   ]
  },
  {
   "cell_type": "code",
   "execution_count": 213,
   "metadata": {},
   "outputs": [
    {
     "data": {
      "text/plain": [
       "2"
      ]
     },
     "execution_count": 213,
     "metadata": {},
     "output_type": "execute_result"
    }
   ],
   "source": [
    "next(a)"
   ]
  },
  {
   "cell_type": "code",
   "execution_count": 214,
   "metadata": {},
   "outputs": [
    {
     "data": {
      "text/plain": [
       "3"
      ]
     },
     "execution_count": 214,
     "metadata": {},
     "output_type": "execute_result"
    }
   ],
   "source": [
    "next(a)"
   ]
  },
  {
   "cell_type": "code",
   "execution_count": 215,
   "metadata": {},
   "outputs": [
    {
     "data": {
      "text/plain": [
       "1"
      ]
     },
     "execution_count": 215,
     "metadata": {},
     "output_type": "execute_result"
    }
   ],
   "source": [
    "next(a)"
   ]
  },
  {
   "cell_type": "code",
   "execution_count": null,
   "metadata": {},
   "outputs": [],
   "source": []
  }
 ],
 "metadata": {
  "kernelspec": {
   "display_name": "Python 3",
   "language": "python",
   "name": "python3"
  },
  "language_info": {
   "codemirror_mode": {
    "name": "ipython",
    "version": 3
   },
   "file_extension": ".py",
   "mimetype": "text/x-python",
   "name": "python",
   "nbconvert_exporter": "python",
   "pygments_lexer": "ipython3",
   "version": "3.7.3"
  }
 },
 "nbformat": 4,
 "nbformat_minor": 2
}
