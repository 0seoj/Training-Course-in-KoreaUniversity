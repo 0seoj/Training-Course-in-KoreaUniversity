{
 "cells": [
  {
   "cell_type": "code",
   "execution_count": 68,
   "metadata": {},
   "outputs": [],
   "source": [
    "#url 받아오고 에러처리\n",
    "\n",
    "import requests\n",
    "import time\n",
    "def download(method, url, param=None, data=None, timeout=1, maxretries=3):\n",
    "    \n",
    "    try:\n",
    "        resp = requests.request(method, url, params=param, data=data, headers={\"user-agent\": \"Mozilla/5.0 (Macintosh; Intel Mac OS X 10_14_0) AppleWebKit/537.36 (KHTML, like Gecko) Chrome/75.0.3770.100 Safari/537.36\"})\n",
    "        resp.raise_for_status()\n",
    "    except requests.exceptions.HTTPError as e:\n",
    "        if 500 <= e.response.status_code < 600 and maxretries>0:  #500대 에러일시 서버잘못이니까 재시도 메세지 띄워줌\n",
    "            print(maxretries)\n",
    "            time.sleep(timeout)\n",
    "            resp = download(method, url, param, data, timeout, maxretries-1)\n",
    "        print(e.response.status_code)\n",
    "        print(e.response.reason)\n",
    "    return resp\n",
    "    \n"
   ]
  },
  {
   "cell_type": "code",
   "execution_count": 69,
   "metadata": {},
   "outputs": [],
   "source": [
    "#http://www.ppomppu.co.kr/zboard/zboard.php?id=freeboard\n",
    "from bs4 import BeautifulSoup\n",
    "\n",
    "def parseURL(seed):\n",
    "    html = download(\"get\", seed)\n",
    "    dom = BeautifulSoup(html.text, \"lxml\")\n",
    "    return [requests.compat.urljoin(seed, _.find_parent()[\"href\"]) \n",
    "            for _ in dom.select(\"font.list_title\") \n",
    "            if _.find_parent() and _.find_parent().has_attr(\"href\")]"
   ]
  },
  {
   "cell_type": "code",
   "execution_count": 80,
   "metadata": {},
   "outputs": [
    {
     "name": "stdout",
     "output_type": "stream",
     "text": [
      "Queue : 30, Seen : 1\n",
      "Queue : 60, Seen : 2\n",
      "Queue : 90, Seen : 3\n",
      "Queue : 120, Seen : 4\n",
      "Queue : 150, Seen : 5\n",
      "Queue : 180, Seen : 6\n",
      "Queue : 210, Seen : 7\n",
      "Queue : 240, Seen : 8\n",
      "Queue : 270, Seen : 9\n",
      "Queue : 300, Seen : 10\n"
     ]
    }
   ],
   "source": [
    "url = \"http://www.ppomppu.co.kr/zboard/zboard.php\"\n",
    "html = download(\"get\", url, param ={\"id\" : \"freeboard\"})\n",
    "dom = BeautifulSoup(html.text, \"lxml\")\n",
    "\n",
    "seed = list()\n",
    "seed.extend([requests.compat.urljoin(url, _[\"href\"])\n",
    "             for _ in dom.select(\"#page_list a\")])\n",
    "seen = list()\n",
    "queue = list()\n",
    "\n",
    "while seed:\n",
    "    baseURL = seed.pop(0) \n",
    "    seen.append(baseURL)\n",
    "    linkList = parseURL(baseURL)\n",
    "    for link in linkList:\n",
    "        if link not in queue and link not in seen:\n",
    "            queue.append(link)\n",
    "    print(\"Queue : {0}, Seen : {1}\".format(len(queue), len(seen)))"
   ]
  },
  {
   "cell_type": "code",
   "execution_count": 81,
   "metadata": {},
   "outputs": [],
   "source": [
    "def parseContent(url):\n",
    "    html = download(\"get\", url)\n",
    "    dom = BeautifulSoup(html.text, \"lxml\")\n",
    "    \n",
    "    return {\"title\":\n",
    "           dom.select_one(\"font.view_title2\").text.strip(),\n",
    "           \"body\":\n",
    "           dom.select_one(\"td.board-contents\").text.strip(),\n",
    "           \"comments\":[_.text.strip()\n",
    "                     for _ in dom.select(\"div[id^=comment]\")]}"
   ]
  },
  {
   "cell_type": "code",
   "execution_count": 72,
   "metadata": {},
   "outputs": [
    {
     "data": {
      "text/plain": [
       "['http://www.ppomppu.co.kr/zboard/zboard.php?id=freeboard&page=2&divpage=1221',\n",
       " 'http://www.ppomppu.co.kr/zboard/zboard.php?id=freeboard&page=3&divpage=1221',\n",
       " 'http://www.ppomppu.co.kr/zboard/zboard.php?id=freeboard&page=4&divpage=1221',\n",
       " 'http://www.ppomppu.co.kr/zboard/zboard.php?id=freeboard&page=5&divpage=1221',\n",
       " 'http://www.ppomppu.co.kr/zboard/zboard.php?id=freeboard&page=6&divpage=1221',\n",
       " 'http://www.ppomppu.co.kr/zboard/zboard.php?id=freeboard&page=7&divpage=1221',\n",
       " 'http://www.ppomppu.co.kr/zboard/zboard.php?id=freeboard&page=8&divpage=1221',\n",
       " 'http://www.ppomppu.co.kr/zboard/zboard.php?id=freeboard&page=9&divpage=1221',\n",
       " 'http://www.ppomppu.co.kr/zboard/zboard.php?id=freeboard&page=10&divpage=1221',\n",
       " 'http://www.ppomppu.co.kr/zboard/zboard.php?id=freeboard&page=11&divpage=1221']"
      ]
     },
     "execution_count": 72,
     "metadata": {},
     "output_type": "execute_result"
    }
   ],
   "source": [
    "seen"
   ]
  },
  {
   "cell_type": "code",
   "execution_count": 73,
   "metadata": {},
   "outputs": [
    {
     "data": {
      "text/plain": [
       "{'title': '정준영 카카오톡 대화 위법 수집 증거능력 없다',\n",
       " 'body': '정준영 측 “카카오톡 대화 위법 수집, 증거능력 없다”\\n\\n\\n\\n\\n\\n\\n[출처: 서울신문에서 제공하는 기사입니다.] https://www.seoul.co.kr/news/newsView.php?id=20190716500138&wlog_tag3=naver#csidxc65db6fe26090868fe498017ccaa6bc\\xa0\\n\\xa0\\n\\xa0\\n\\n\\n\\n\\n\\xa0\\n\\xa0\\n\\xa0\\n쥐새끼들ㅋㅋ',\n",
       " 'comments': ['쑤레기들..귀신은 뭐하나요 이런놈들 안잡아가고']}"
      ]
     },
     "execution_count": 73,
     "metadata": {},
     "output_type": "execute_result"
    }
   ],
   "source": [
    "parseContent(\"http://www.ppomppu.co.kr/zboard/zboard.php?id=freeboard&page=2&divpage=1221&no=6543184\")"
   ]
  },
  {
   "cell_type": "code",
   "execution_count": 74,
   "metadata": {},
   "outputs": [],
   "source": [
    "#DB"
   ]
  },
  {
   "cell_type": "code",
   "execution_count": 82,
   "metadata": {},
   "outputs": [],
   "source": [
    "import sqlite3\n",
    "\n",
    "con = sqlite3.connect(\"bot4.db\")\n",
    "cur = con.cursor()\n",
    "\n",
    "cur.executescript(\"\"\"\n",
    "    DROP TABLE IF EXISTS table3;\n",
    "    CREATE TABLE table3(\n",
    "        id INTEGER PRIMARY KEY AUTOINCREMENT NOT NULL, \n",
    "        title TEXT NOT NULL,\n",
    "        content TEXT NOT NULL,\n",
    "        date TIMESTAMP DEFAULT CURRENT_TIMESTAMP NOT NULL\n",
    "    );\n",
    "    \n",
    "    DROP TABLE IF EXISTS table4;\n",
    "    CREATE TABLE table4(\n",
    "        id INTEGER PRIMARY KEY AUTOINCREMENT NOT NULL,\n",
    "        table3_id INTEGER NOT NULL,\n",
    "        comment TEXT NOT NULL\n",
    "    );\n",
    "\"\"\")\n",
    "\n",
    "con.commit()"
   ]
  },
  {
   "cell_type": "code",
   "execution_count": 83,
   "metadata": {},
   "outputs": [],
   "source": [
    "while queue: #여긴항상트루\n",
    "    baseURL = queue.pop(0)\n",
    "    seen.append(baseURL)\n",
    "    content = parseContent(baseURL)\n",
    "    cur.execute(\"\"\"\n",
    "        INSERT INTO table3\n",
    "        (title, content)\n",
    "        VALUES(?,?)\n",
    "    \"\"\", [content[\"title\"], content[\"body\"]])\n",
    "    con.commit()\n",
    "    \n",
    "    cur.execute(\"\"\"\n",
    "        SELECT id \n",
    "        FROM table3\n",
    "        WHERE title=? AND content=?;\n",
    "    \"\"\",  [content[\"title\"], content[\"body\"]])\n",
    "    table3_id = cur.fetchone()[0]\n",
    "    \n",
    "    for comment in content[\"comments\"]:\n",
    "        cur.execute(\"\"\"\n",
    "            INSERT INTO table4\n",
    "            (table3_id, comment)\n",
    "            VALUES(?, ?)\n",
    "        \"\"\", [table3_id, comment])\n",
    "        \n",
    "        \n",
    "    con.commit()\n",
    "\n"
   ]
  },
  {
   "cell_type": "code",
   "execution_count": null,
   "metadata": {},
   "outputs": [],
   "source": []
  }
 ],
 "metadata": {
  "kernelspec": {
   "display_name": "Python 3",
   "language": "python",
   "name": "python3"
  },
  "language_info": {
   "codemirror_mode": {
    "name": "ipython",
    "version": 3
   },
   "file_extension": ".py",
   "mimetype": "text/x-python",
   "name": "python",
   "nbconvert_exporter": "python",
   "pygments_lexer": "ipython3",
   "version": "3.7.3"
  }
 },
 "nbformat": 4,
 "nbformat_minor": 2
}
