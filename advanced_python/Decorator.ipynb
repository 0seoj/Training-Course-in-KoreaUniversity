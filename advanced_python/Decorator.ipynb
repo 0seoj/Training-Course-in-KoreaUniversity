{
 "cells": [
  {
   "cell_type": "markdown",
   "metadata": {},
   "source": [
    "## First Order"
   ]
  },
  {
   "cell_type": "markdown",
   "metadata": {},
   "source": [
    "- can be created at runtime\n",
    "- can be assigned to a variable\n",
    "- can be passed as a argument to a function\n",
    "- can be returned as the result of a function"
   ]
  },
  {
   "cell_type": "code",
   "execution_count": 1,
   "metadata": {},
   "outputs": [],
   "source": [
    "#decorator : 함수 또는 class의 기능을 바꿔주는 애 \n",
    "#보통 기능을 바꿔주기보다 기능을 추가해줄 때 씀\n",
    "#이 함수의 실행시간을 알고싶어! 할때 씀\n",
    "\n",
    "\n",
    "#python 함수 = first class function\n",
    "# = 함수를 값처럼 사용한다!"
   ]
  },
  {
   "cell_type": "code",
   "execution_count": 2,
   "metadata": {},
   "outputs": [
    {
     "name": "stdout",
     "output_type": "stream",
     "text": [
      "Hi i am a function\n"
     ]
    }
   ],
   "source": [
    "def hello(x):\n",
    "    print(\"Hi i am a function\")\n",
    "    \n",
    "hello(12)\n",
    "\n",
    "#파이썬에서는 리턴값이 없으면 return None 지정해준다.\n",
    "#실행시킬때 out이 없으면 다 None이구나! 하면 됨"
   ]
  },
  {
   "cell_type": "code",
   "execution_count": 3,
   "metadata": {},
   "outputs": [
    {
     "name": "stdout",
     "output_type": "stream",
     "text": [
      "Hi i am a function\n",
      "None\n"
     ]
    }
   ],
   "source": [
    "def hello(x):\n",
    "    print(\"Hi i am a function\")\n",
    "\n",
    "firs=hello\n",
    "print(firs(12))\n",
    "\n",
    "#hello는 return none이기 때문에 print하면 none 나옴"
   ]
  },
  {
   "cell_type": "code",
   "execution_count": 3,
   "metadata": {},
   "outputs": [],
   "source": [
    "print = 0"
   ]
  },
  {
   "cell_type": "code",
   "execution_count": 4,
   "metadata": {},
   "outputs": [
    {
     "ename": "TypeError",
     "evalue": "'int' object is not callable",
     "output_type": "error",
     "traceback": [
      "\u001b[0;31m---------------------------------------------------------------------------\u001b[0m",
      "\u001b[0;31mTypeError\u001b[0m                                 Traceback (most recent call last)",
      "\u001b[0;32m<ipython-input-4-5052202eba61>\u001b[0m in \u001b[0;36m<module>\u001b[0;34m\u001b[0m\n\u001b[1;32m      1\u001b[0m \u001b[0mAnkit\u001b[0m\u001b[0;34m=\u001b[0m\u001b[0mprint\u001b[0m\u001b[0;34m\u001b[0m\u001b[0;34m\u001b[0m\u001b[0m\n\u001b[0;32m----> 2\u001b[0;31m \u001b[0mAnkit\u001b[0m\u001b[0;34m(\u001b[0m\u001b[0;34m\"Hello i am print\"\u001b[0m\u001b[0;34m)\u001b[0m\u001b[0;34m\u001b[0m\u001b[0;34m\u001b[0m\u001b[0m\n\u001b[0m",
      "\u001b[0;31mTypeError\u001b[0m: 'int' object is not callable"
     ]
    }
   ],
   "source": [
    "Ankit=print\n",
    "Ankit(\"Hello i am print\")\n",
    "#Error! print에 0 할당해서 print 기능없어진상태임"
   ]
  },
  {
   "cell_type": "code",
   "execution_count": 5,
   "metadata": {},
   "outputs": [],
   "source": [
    "del(print)  #다시 print 기능 되살리는 것"
   ]
  },
  {
   "cell_type": "code",
   "execution_count": 6,
   "metadata": {},
   "outputs": [
    {
     "name": "stdout",
     "output_type": "stream",
     "text": [
      "Hello i am print\n"
     ]
    }
   ],
   "source": [
    "Ankit=print\n",
    "Ankit(\"Hello i am print\")\n",
    "#정상 작동!"
   ]
  },
  {
   "cell_type": "markdown",
   "metadata": {},
   "source": [
    "---"
   ]
  },
  {
   "cell_type": "code",
   "execution_count": 10,
   "metadata": {},
   "outputs": [
    {
     "name": "stdout",
     "output_type": "stream",
     "text": [
      "Hi i am a function\n",
      "None\n"
     ]
    }
   ],
   "source": [
    "def hello(x):\n",
    "    print(\"Hi i am a function\")\n",
    "\n",
    "firs=hello\n",
    "del hello\n",
    "print(firs(12))"
   ]
  },
  {
   "cell_type": "code",
   "execution_count": 4,
   "metadata": {},
   "outputs": [
    {
     "name": "stdout",
     "output_type": "stream",
     "text": [
      "Hi i am a function\n"
     ]
    },
    {
     "data": {
      "text/plain": [
       "['__abs__',\n",
       " '__add__',\n",
       " '__and__',\n",
       " '__bool__',\n",
       " '__ceil__',\n",
       " '__class__',\n",
       " '__delattr__',\n",
       " '__dir__',\n",
       " '__divmod__',\n",
       " '__doc__',\n",
       " '__eq__',\n",
       " '__float__',\n",
       " '__floor__',\n",
       " '__floordiv__',\n",
       " '__format__',\n",
       " '__ge__',\n",
       " '__getattribute__',\n",
       " '__getnewargs__',\n",
       " '__gt__',\n",
       " '__hash__',\n",
       " '__index__',\n",
       " '__init__',\n",
       " '__init_subclass__',\n",
       " '__int__',\n",
       " '__invert__',\n",
       " '__le__',\n",
       " '__lshift__',\n",
       " '__lt__',\n",
       " '__mod__',\n",
       " '__mul__',\n",
       " '__ne__',\n",
       " '__neg__',\n",
       " '__new__',\n",
       " '__or__',\n",
       " '__pos__',\n",
       " '__pow__',\n",
       " '__radd__',\n",
       " '__rand__',\n",
       " '__rdivmod__',\n",
       " '__reduce__',\n",
       " '__reduce_ex__',\n",
       " '__repr__',\n",
       " '__rfloordiv__',\n",
       " '__rlshift__',\n",
       " '__rmod__',\n",
       " '__rmul__',\n",
       " '__ror__',\n",
       " '__round__',\n",
       " '__rpow__',\n",
       " '__rrshift__',\n",
       " '__rshift__',\n",
       " '__rsub__',\n",
       " '__rtruediv__',\n",
       " '__rxor__',\n",
       " '__setattr__',\n",
       " '__sizeof__',\n",
       " '__str__',\n",
       " '__sub__',\n",
       " '__subclasshook__',\n",
       " '__truediv__',\n",
       " '__trunc__',\n",
       " '__xor__',\n",
       " 'bit_length',\n",
       " 'conjugate',\n",
       " 'denominator',\n",
       " 'from_bytes',\n",
       " 'imag',\n",
       " 'numerator',\n",
       " 'real',\n",
       " 'to_bytes']"
      ]
     },
     "execution_count": 4,
     "metadata": {},
     "output_type": "execute_result"
    }
   ],
   "source": [
    "def hello(x):\n",
    "    print(\"Hi i am a function\")\n",
    "    return 1\n",
    " \n",
    "firs=hello(1)  \n",
    "callable(firs)  #function 방식\n",
    "firs.__call__()  #method 방식\n",
    "# dir(firs)\n",
    "# print(firs(12))"
   ]
  },
  {
   "cell_type": "code",
   "execution_count": 5,
   "metadata": {},
   "outputs": [],
   "source": [
    "def hello(x):\n",
    "    print(\"Hi i am a function\")\n",
    "    return hello\n",
    " \n",
    "# firs=hello(1)\n",
    "# print(firs(12))"
   ]
  },
  {
   "cell_type": "code",
   "execution_count": 6,
   "metadata": {},
   "outputs": [
    {
     "name": "stdout",
     "output_type": "stream",
     "text": [
      "Hi i am a function\n",
      "Hi i am a function\n",
      "Hi i am a function\n",
      "Hi i am a function\n"
     ]
    },
    {
     "data": {
      "text/plain": [
       "<function __main__.hello(x)>"
      ]
     },
     "execution_count": 6,
     "metadata": {},
     "output_type": "execute_result"
    }
   ],
   "source": [
    "firs = hello(1)(2)(3)(4)\n",
    "\n",
    "#__main__ : 현재 사용하고 있는 모듈"
   ]
  },
  {
   "cell_type": "markdown",
   "metadata": {},
   "source": [
    "--- "
   ]
  },
  {
   "cell_type": "code",
   "execution_count": 12,
   "metadata": {},
   "outputs": [
    {
     "name": "stdout",
     "output_type": "stream",
     "text": [
      "Hi i am a function\n",
      "12.333333333333334\n"
     ]
    }
   ],
   "source": [
    "def hello(x):\n",
    "    print(\"Hi i am a function\")\n",
    "    x+=132\n",
    "    x=x/12\n",
    "    print(x)\n",
    " \n",
    " \n",
    "hello(16)"
   ]
  },
  {
   "cell_type": "code",
   "execution_count": 16,
   "metadata": {},
   "outputs": [
    {
     "name": "stdout",
     "output_type": "stream",
     "text": [
      "Hi i am a function\n",
      "12.333333333333334\n"
     ]
    },
    {
     "ename": "NameError",
     "evalue": "name 'x' is not defined",
     "output_type": "error",
     "traceback": [
      "\u001b[0;31m---------------------------------------------------------------------------\u001b[0m",
      "\u001b[0;31mNameError\u001b[0m                                 Traceback (most recent call last)",
      "\u001b[0;32m<ipython-input-16-829914ad28fc>\u001b[0m in \u001b[0;36m<module>\u001b[0;34m()\u001b[0m\n\u001b[1;32m     14\u001b[0m \u001b[0;34m\u001b[0m\u001b[0m\n\u001b[1;32m     15\u001b[0m \u001b[0;34m\u001b[0m\u001b[0m\n\u001b[0;32m---> 16\u001b[0;31m \u001b[0mbye\u001b[0m\u001b[0;34m(\u001b[0m\u001b[0;36m12\u001b[0m\u001b[0;34m)\u001b[0m\u001b[0;34m\u001b[0m\u001b[0m\n\u001b[0m",
      "\u001b[0;32m<ipython-input-16-829914ad28fc>\u001b[0m in \u001b[0;36mbye\u001b[0;34m(y)\u001b[0m\n\u001b[1;32m     10\u001b[0m \u001b[0;34m\u001b[0m\u001b[0m\n\u001b[1;32m     11\u001b[0m \u001b[0;32mdef\u001b[0m \u001b[0mbye\u001b[0m\u001b[0;34m(\u001b[0m\u001b[0my\u001b[0m\u001b[0;34m)\u001b[0m\u001b[0;34m:\u001b[0m\u001b[0;34m\u001b[0m\u001b[0m\n\u001b[0;32m---> 12\u001b[0;31m     \u001b[0mz\u001b[0m\u001b[0;34m=\u001b[0m\u001b[0mx\u001b[0m\u001b[0;34m+\u001b[0m\u001b[0my\u001b[0m\u001b[0;34m\u001b[0m\u001b[0m\n\u001b[0m\u001b[1;32m     13\u001b[0m     \u001b[0mprint\u001b[0m\u001b[0;34m(\u001b[0m\u001b[0mz\u001b[0m\u001b[0;34m)\u001b[0m\u001b[0;34m\u001b[0m\u001b[0m\n\u001b[1;32m     14\u001b[0m \u001b[0;34m\u001b[0m\u001b[0m\n",
      "\u001b[0;31mNameError\u001b[0m: name 'x' is not defined"
     ]
    }
   ],
   "source": [
    "def hello(x):\n",
    "    print(\"Hi i am a function\")\n",
    "    x+=132\n",
    "    x=x/12\n",
    "    print(x)\n",
    "\n",
    "    \n",
    "hello(16)\n",
    " \n",
    "    \n",
    "def bye(y):\n",
    "    z=x+y\n",
    "    print(z)\n",
    "\n",
    "    \n",
    "bye(12)"
   ]
  },
  {
   "cell_type": "code",
   "execution_count": 18,
   "metadata": {},
   "outputs": [
    {
     "name": "stdout",
     "output_type": "stream",
     "text": [
      "Hi i am a function\n",
      "12.333333333333334\n",
      "24.333333333333336\n"
     ]
    }
   ],
   "source": [
    "def hello(x):\n",
    "    print(\"Hi i am a function\")\n",
    "    x+=132\n",
    "    x=x/12\n",
    "    print(x)\n",
    "    return x\n",
    "\n",
    "\n",
    "ref=hello(16)\n",
    "\n",
    "def bye(y):\n",
    "    z=ref+y\n",
    "    print(z)\n",
    "\n",
    "\n",
    "bye(12)"
   ]
  },
  {
   "cell_type": "code",
   "execution_count": 7,
   "metadata": {},
   "outputs": [
    {
     "name": "stdout",
     "output_type": "stream",
     "text": [
      "hello\n",
      "look\n"
     ]
    }
   ],
   "source": [
    "def bye():\n",
    "    print(\"look\")\n",
    "\n",
    "\n",
    "def hello(fun):\n",
    "    print(\"hello\")\n",
    "    fun()\n",
    "\n",
    "\n",
    "hello(bye)"
   ]
  },
  {
   "cell_type": "code",
   "execution_count": 8,
   "metadata": {},
   "outputs": [
    {
     "name": "stdout",
     "output_type": "stream",
     "text": [
      "hello\n",
      "This is my real fun bye\n",
      "look\n"
     ]
    }
   ],
   "source": [
    "def bye():\n",
    "    print(\"look\")\n",
    "\n",
    "\n",
    "def hello(fun):\n",
    "    print(\"hello\")\n",
    "    print(\"This is my real fun\",fun.__name__)\n",
    "    fun() #괄호 붙일 수 있을까? 그건 모른다! 쓸수 있는 애를 받아오면 쓸 수 있어\n",
    "\n",
    "hello(bye)"
   ]
  },
  {
   "cell_type": "code",
   "execution_count": 8,
   "metadata": {},
   "outputs": [
    {
     "data": {
      "text/plain": [
       "'__main__'"
      ]
     },
     "execution_count": 8,
     "metadata": {},
     "output_type": "execute_result"
    }
   ],
   "source": [
    "__name__"
   ]
  },
  {
   "cell_type": "code",
   "execution_count": 9,
   "metadata": {},
   "outputs": [
    {
     "data": {
      "text/plain": [
       "'sys'"
      ]
     },
     "execution_count": 9,
     "metadata": {},
     "output_type": "execute_result"
    }
   ],
   "source": [
    "import sys\n",
    "sys.__name__\n",
    "\n",
    "# 즉! __name__ 을 쓰면 임포트 한 모듈이 나온다!"
   ]
  },
  {
   "cell_type": "code",
   "execution_count": 37,
   "metadata": {},
   "outputs": [
    {
     "name": "stdout",
     "output_type": "stream",
     "text": [
      "look\n",
      "hello\n",
      "oh 12\n",
      "[0, 0, 0]\n",
      "[0, 0, 0]\n",
      "[0, 0, 0]\n"
     ]
    }
   ],
   "source": [
    "def bye():\n",
    "    print(\"look\")\n",
    "    return 0\n",
    "\n",
    "def hello():\n",
    "    print(\"hello\")\n",
    "    return 0\n",
    "\n",
    "def byea(r):\n",
    "    print(\"oh\",r)\n",
    "    return 0\n",
    "\n",
    "l=[bye(),hello(),byea(12)]  #리스트 안에 넣으면 실행된 후 들어간다 (print가 찍힌다)\n",
    "\n",
    "for a in l:\n",
    "    print(l)  #이미 위에서 실행된 후 결과값 0만 찍힌다."
   ]
  },
  {
   "cell_type": "markdown",
   "metadata": {},
   "source": [
    "## closure"
   ]
  },
  {
   "cell_type": "code",
   "execution_count": 12,
   "metadata": {},
   "outputs": [
    {
     "name": "stdout",
     "output_type": "stream",
     "text": [
      "11\n",
      "None\n"
     ]
    }
   ],
   "source": [
    "def helllo(x):\n",
    "    x=11   #실행순서 1\n",
    "    def bye():    #3\n",
    "        print(x)    #4\n",
    "#         return 0    #5 : 주석처리해놨으므로 none 리턴\n",
    "    return bye    #2\n",
    "\n",
    "er=helllo(12)  # er == closure\n",
    "print(er())\n"
   ]
  },
  {
   "cell_type": "markdown",
   "metadata": {},
   "source": [
    "A closure remembers the values from its enclosing lexical scope even when the program flow is no longer in that scope.\n",
    "In practical terms this means not only can functions return behaviors but they can also pre-configure those behaviors."
   ]
  },
  {
   "cell_type": "code",
   "execution_count": 25,
   "metadata": {},
   "outputs": [],
   "source": [
    "import math\n",
    "\n",
    "def demo_one():\n",
    "    return math.sqrt # return a function"
   ]
  },
  {
   "cell_type": "code",
   "execution_count": 26,
   "metadata": {},
   "outputs": [
    {
     "name": "stdout",
     "output_type": "stream",
     "text": [
      "ankit\n",
      "ANKIT\n"
     ]
    }
   ],
   "source": [
    "def hello(x):  #2  \n",
    "    def by():  #4\n",
    "        print(x)  #5\n",
    "        return x.upper()  #6\n",
    "    return by   #3 : 함수 정의는 뛰어넘으니까!\n",
    " \n",
    "print(hello(\"ankit\")())    #실행순서 1"
   ]
  },
  {
   "cell_type": "code",
   "execution_count": 28,
   "metadata": {},
   "outputs": [
    {
     "name": "stdout",
     "output_type": "stream",
     "text": [
      "6\n"
     ]
    }
   ],
   "source": [
    "#closure\n",
    "\n",
    "def funcwrapper(y):\n",
    "    def addone(x):\n",
    "        return x + y + 1\n",
    "    return addone\n",
    "\n",
    "result = funcwrapper(3)(2)  #괄호하나만쓰면 에러~\n",
    "print(result)"
   ]
  },
  {
   "cell_type": "markdown",
   "metadata": {},
   "source": [
    "## nested\n",
    "- using return\n",
    "- using closure\n",
    "- using func()()"
   ]
  },
  {
   "cell_type": "code",
   "execution_count": 14,
   "metadata": {},
   "outputs": [
    {
     "name": "stdout",
     "output_type": "stream",
     "text": [
      "waa\n"
     ]
    }
   ],
   "source": [
    "def hello(x):\n",
    "    def bye(f):\n",
    "        print(\"waa\")\n",
    "    return bye\n",
    "hello(12)(11)"
   ]
  },
  {
   "cell_type": "markdown",
   "metadata": {},
   "source": [
    "### using return"
   ]
  },
  {
   "cell_type": "code",
   "execution_count": 17,
   "metadata": {},
   "outputs": [
    {
     "name": "stdout",
     "output_type": "stream",
     "text": [
      "I am nested function 12\n",
      "None\n"
     ]
    }
   ],
   "source": [
    "def demo(x):\n",
    "    def ine():\n",
    "        print(\"I am nested function\",x)\n",
    "    return ine()\n",
    "print(demo(12))"
   ]
  },
  {
   "cell_type": "markdown",
   "metadata": {},
   "source": [
    "### using closure"
   ]
  },
  {
   "cell_type": "code",
   "execution_count": 15,
   "metadata": {},
   "outputs": [
    {
     "name": "stdout",
     "output_type": "stream",
     "text": [
      "I am nested function 12\n",
      "None\n"
     ]
    }
   ],
   "source": [
    "def demo(x):\n",
    "    def ine():\n",
    "        print(\"I am nested function\",x)\n",
    "    return ine\n",
    "print(demo(12)())"
   ]
  },
  {
   "cell_type": "markdown",
   "metadata": {},
   "source": [
    "### using func()()"
   ]
  },
  {
   "cell_type": "code",
   "execution_count": 32,
   "metadata": {},
   "outputs": [
    {
     "name": "stdout",
     "output_type": "stream",
     "text": [
      "I am nested function 12\n"
     ]
    }
   ],
   "source": [
    "def demo(x):\n",
    "    def ine():\n",
    "        print(\"I am nested function\",x)\n",
    "    return ine\n",
    "\n",
    "demo(12)()"
   ]
  },
  {
   "cell_type": "code",
   "execution_count": 33,
   "metadata": {},
   "outputs": [
    {
     "name": "stdout",
     "output_type": "stream",
     "text": [
      "waa\n",
      "None\n"
     ]
    }
   ],
   "source": [
    "def hello(x):\n",
    "    def bye(f):\n",
    "        print(\"waa\")\n",
    "    return bye\n",
    "io=hello(12)\n",
    "print(io(1))"
   ]
  },
  {
   "cell_type": "code",
   "execution_count": 1,
   "metadata": {},
   "outputs": [],
   "source": [
    "#decorator 예제\n",
    "def hello(func):  #1 : 인자로 hi function들어옴\n",
    "    def bye(x):  #3\n",
    "        print(\"before the decoratr\")  #4\n",
    "        func(x)   #hello가 인자를 함수로 받았다는 걸 알 수 있음 , #5 hi함수에 인자로 1 넣음\n",
    "        print(\"after the decorat\")  #8,  #9 : return값 없으므로 None 출력됨\n",
    "    return bye   #2 함수호출"
   ]
  },
  {
   "cell_type": "code",
   "execution_count": 8,
   "metadata": {},
   "outputs": [],
   "source": [
    "@wrapper  #decorator로 바꾼 기능으로 실행하겠다! 바꾼 기능 밑에있음\n",
    "def hi(x):   #6\n",
    "    print(x)  #7\n",
    " "
   ]
  },
  {
   "cell_type": "code",
   "execution_count": 9,
   "metadata": {},
   "outputs": [
    {
     "name": "stdout",
     "output_type": "stream",
     "text": [
      "before the decoratr\n",
      "2\n",
      "after the decorat\n",
      "None\n"
     ]
    }
   ],
   "source": [
    "# hi(1)\n",
    "# df=hello(hi)\n",
    "print(hello(hi)(1))   # hi()하면안됨! 함수집어넣어야되니까, hello에서 함수 리턴하니까 뒤에 괄호 하나 더 써주자."
   ]
  },
  {
   "cell_type": "code",
   "execution_count": 10,
   "metadata": {},
   "outputs": [],
   "source": [
    "#decorator 만들어보잦\n",
    "def wrapper(func):\n",
    "    def inner(x):  #inner안에 func 함수를 써먹는 구문이 와야해, 쓸 함수의 인자 맞춰주기! \n",
    "        return func(x+1)  #원래 hi는 그냥 값 프린트하는함수였는데, +1을 하고 싶다! 할때 데코레이터를 써서 수정\n",
    "    return inner\n",
    "        "
   ]
  },
  {
   "cell_type": "code",
   "execution_count": 11,
   "metadata": {},
   "outputs": [
    {
     "name": "stdout",
     "output_type": "stream",
     "text": [
      "6\n"
     ]
    }
   ],
   "source": [
    "wrapper(hi)(4)"
   ]
  },
  {
   "cell_type": "code",
   "execution_count": 39,
   "metadata": {},
   "outputs": [
    {
     "name": "stdout",
     "output_type": "stream",
     "text": [
      "before the decoratr\n",
      "hk\n",
      "after the decorat\n"
     ]
    }
   ],
   "source": [
    "def hello(func):\n",
    "    def bye(x):\n",
    "        print(\"before the decoratr\")\n",
    "        func(x)\n",
    "        print(\"after the decorat\")\n",
    "    return bye\n",
    "\n",
    "@hello\n",
    "def hi(sa):\n",
    "    print(\"hk\")\n",
    "\n",
    "hi(1)"
   ]
  },
  {
   "cell_type": "code",
   "execution_count": 40,
   "metadata": {},
   "outputs": [
    {
     "name": "stdout",
     "output_type": "stream",
     "text": [
      "This is stuff before decorator\n",
      "this function want to use decorator\n",
      "this is stuff after decorator\n",
      "None\n"
     ]
    }
   ],
   "source": [
    "def hello(func):\n",
    "    def wrapper(x):  #위 아래에 프린트가 추가되는 함수임\n",
    "        print(\"This is stuff before decorator\")\n",
    "        func(x)\n",
    "        print(\"this is stuff after decorator\")\n",
    "    return wrapper\n",
    "\n",
    "def testingfunc(x):\n",
    "    print(\"this function want to use decorator\")\n",
    "\n",
    "closure=hello(testingfunc)\n",
    "print(closure(12))"
   ]
  },
  {
   "cell_type": "code",
   "execution_count": 31,
   "metadata": {},
   "outputs": [],
   "source": [
    "def extrafun(hi):\n",
    "    def decorator(func):\n",
    "        def wrapper(x):\n",
    "            print('before decoraoting')\n",
    "            func(x)\n",
    "            print('After decoraoting')\n",
    "        return wrapper\n",
    "    return decorator\n",
    "\n",
    "@extrafun(12)\n",
    "def newfunc(c):\n",
    "    print(\"this is new function\")\n",
    "\n",
    "newfunc(12)"
   ]
  },
  {
   "cell_type": "code",
   "execution_count": 48,
   "metadata": {},
   "outputs": [
    {
     "ename": "TypeError",
     "evalue": "hi() missing 1 required positional argument: 'sa'",
     "output_type": "error",
     "traceback": [
      "\u001b[0;31m---------------------------------------------------------------------------\u001b[0m",
      "\u001b[0;31mTypeError\u001b[0m                                 Traceback (most recent call last)",
      "\u001b[0;32m<ipython-input-48-81b065e6eb46>\u001b[0m in \u001b[0;36m<module>\u001b[0;34m()\u001b[0m\n\u001b[1;32m      8\u001b[0m     \u001b[0;32mpass\u001b[0m\u001b[0;34m\u001b[0m\u001b[0m\n\u001b[1;32m      9\u001b[0m \u001b[0;34m\u001b[0m\u001b[0m\n\u001b[0;32m---> 10\u001b[0;31m \u001b[0mhi\u001b[0m\u001b[0;34m(\u001b[0m\u001b[0;34m)\u001b[0m\u001b[0;34m\u001b[0m\u001b[0m\n\u001b[0m",
      "\u001b[0;32m<ipython-input-48-81b065e6eb46>\u001b[0m in \u001b[0;36mbye\u001b[0;34m()\u001b[0m\n\u001b[1;32m      1\u001b[0m \u001b[0;32mdef\u001b[0m \u001b[0mhello\u001b[0m\u001b[0;34m(\u001b[0m\u001b[0mfunc\u001b[0m\u001b[0;34m)\u001b[0m\u001b[0;34m:\u001b[0m\u001b[0;34m\u001b[0m\u001b[0m\n\u001b[1;32m      2\u001b[0m     \u001b[0;32mdef\u001b[0m \u001b[0mbye\u001b[0m\u001b[0;34m(\u001b[0m\u001b[0;34m)\u001b[0m\u001b[0;34m:\u001b[0m\u001b[0;34m\u001b[0m\u001b[0m\n\u001b[0;32m----> 3\u001b[0;31m         \u001b[0mfunc\u001b[0m\u001b[0;34m(\u001b[0m\u001b[0;34m)\u001b[0m\u001b[0;34m\u001b[0m\u001b[0m\n\u001b[0m\u001b[1;32m      4\u001b[0m     \u001b[0;32mreturn\u001b[0m \u001b[0mbye\u001b[0m\u001b[0;34m\u001b[0m\u001b[0m\n\u001b[1;32m      5\u001b[0m \u001b[0;34m\u001b[0m\u001b[0m\n",
      "\u001b[0;31mTypeError\u001b[0m: hi() missing 1 required positional argument: 'sa'"
     ]
    }
   ],
   "source": [
    "def hello(func):\n",
    "    def bye():\n",
    "        func()\n",
    "    return bye\n",
    "\n",
    "@hello\n",
    "def hi(sa):\n",
    "    pass\n",
    "\n",
    "hi()"
   ]
  },
  {
   "cell_type": "code",
   "execution_count": 50,
   "metadata": {},
   "outputs": [
    {
     "ename": "TypeError",
     "evalue": "bye() takes 0 positional arguments but 1 was given",
     "output_type": "error",
     "traceback": [
      "\u001b[0;31m---------------------------------------------------------------------------\u001b[0m",
      "\u001b[0;31mTypeError\u001b[0m                                 Traceback (most recent call last)",
      "\u001b[0;32m<ipython-input-50-14d58fb8c51d>\u001b[0m in \u001b[0;36m<module>\u001b[0;34m()\u001b[0m\n\u001b[1;32m      8\u001b[0m     \u001b[0;32mpass\u001b[0m\u001b[0;34m\u001b[0m\u001b[0m\n\u001b[1;32m      9\u001b[0m \u001b[0;34m\u001b[0m\u001b[0m\n\u001b[0;32m---> 10\u001b[0;31m \u001b[0mhi\u001b[0m\u001b[0;34m(\u001b[0m\u001b[0;36m1\u001b[0m\u001b[0;34m)\u001b[0m\u001b[0;34m\u001b[0m\u001b[0m\n\u001b[0m",
      "\u001b[0;31mTypeError\u001b[0m: bye() takes 0 positional arguments but 1 was given"
     ]
    }
   ],
   "source": [
    "def hello(func):\n",
    "    def bye():\n",
    "        func()\n",
    "    return bye\n",
    "\n",
    "@hello\n",
    "def hi(sa):\n",
    "    pass\n",
    "\n",
    "hi(1)"
   ]
  },
  {
   "cell_type": "code",
   "execution_count": 51,
   "metadata": {},
   "outputs": [
    {
     "ename": "TypeError",
     "evalue": "bye() takes 1 positional argument but 2 were given",
     "output_type": "error",
     "traceback": [
      "\u001b[0;31m---------------------------------------------------------------------------\u001b[0m",
      "\u001b[0;31mTypeError\u001b[0m                                 Traceback (most recent call last)",
      "\u001b[0;32m<ipython-input-51-1a28bf2039cd>\u001b[0m in \u001b[0;36m<module>\u001b[0;34m()\u001b[0m\n\u001b[1;32m     13\u001b[0m \u001b[0;32mdef\u001b[0m \u001b[0mhi2\u001b[0m\u001b[0;34m(\u001b[0m\u001b[0ma\u001b[0m\u001b[0;34m,\u001b[0m\u001b[0mb\u001b[0m\u001b[0;34m)\u001b[0m\u001b[0;34m:\u001b[0m\u001b[0;34m\u001b[0m\u001b[0m\n\u001b[1;32m     14\u001b[0m     \u001b[0mprint\u001b[0m\u001b[0;34m(\u001b[0m\u001b[0;34m\"two parameter\"\u001b[0m\u001b[0;34m)\u001b[0m\u001b[0;34m\u001b[0m\u001b[0m\n\u001b[0;32m---> 15\u001b[0;31m \u001b[0mhi2\u001b[0m\u001b[0;34m(\u001b[0m\u001b[0;36m1\u001b[0m\u001b[0;34m,\u001b[0m\u001b[0;36m2\u001b[0m\u001b[0;34m)\u001b[0m\u001b[0;34m\u001b[0m\u001b[0m\n\u001b[0m",
      "\u001b[0;31mTypeError\u001b[0m: bye() takes 1 positional argument but 2 were given"
     ]
    }
   ],
   "source": [
    "def hello(func):\n",
    "    def bye(e):\n",
    "        func(e)\n",
    "    return bye\n",
    "\n",
    "@hello\n",
    "def hi(sa):\n",
    "    pass\n",
    "\n",
    "hi(1)\n",
    "\n",
    "@hello\n",
    "def hi2(a,b):\n",
    "    print(\"two parameter\")\n",
    "hi2(1,2)"
   ]
  },
  {
   "cell_type": "code",
   "execution_count": 25,
   "metadata": {},
   "outputs": [
    {
     "name": "stdout",
     "output_type": "stream",
     "text": [
      "wow\n",
      "two parameter\n"
     ]
    }
   ],
   "source": [
    "def hello(func):\n",
    "    def bye(*args,**kwargs):  #이렇게 해놓으면 가변길이로 받을 수 있어서, 인자로 몇개를 넣든 에러 안남!\n",
    "        func(*args)\n",
    "    return bye\n",
    "\n",
    "@hello\n",
    "def hi(sa):\n",
    "    print(\"wow\")\n",
    "\n",
    "hi(1)\n",
    "\n",
    "@hello\n",
    "def hi2(a,b):\n",
    "    print(\"two parameter\")\n",
    "\n",
    "hi2(1,2)"
   ]
  },
  {
   "cell_type": "code",
   "execution_count": 42,
   "metadata": {},
   "outputs": [
    {
     "name": "stdout",
     "output_type": "stream",
     "text": [
      "before decoraoting\n",
      "this is new function\n",
      "After decoraoting\n"
     ]
    }
   ],
   "source": [
    "def extrafun(hi):\n",
    "    def decorator(func):  #함수를 두번째에서 받을수 있음. 이땐 조심해야해\n",
    "        def wrapper(x):\n",
    "            print('before decoraoting')\n",
    "            func(x)\n",
    "            print('After decoraoting')\n",
    "        return wrapper\n",
    "    return decorator\n",
    "\n",
    "def newfunc(c):\n",
    "    print(\"this is new function\")\n",
    "\n",
    "func1=extrafun(12)(newfunc) #extrafun에 12를 쓸 수 있어! 활용법 --> if hi>3 decorator실행하도록\n",
    "func1(12) "
   ]
  },
  {
   "cell_type": "code",
   "execution_count": 44,
   "metadata": {},
   "outputs": [
    {
     "name": "stdout",
     "output_type": "stream",
     "text": [
      "before decoraoting\n",
      "this is new function\n",
      "After decoraoting\n"
     ]
    }
   ],
   "source": [
    "def extrafun(hi):\n",
    "    def decorator(func):\n",
    "        def wrapper(x):\n",
    "            print('before decoraoting')\n",
    "            func(x)\n",
    "            print('After decoraoting')\n",
    "        return wrapper\n",
    "    return decorator\n",
    "\n",
    "@extrafun(12)\n",
    "def newfunc(c):\n",
    "    print(\"this is new function\")\n",
    "\n",
    "newfunc(12)"
   ]
  },
  {
   "cell_type": "code",
   "execution_count": 54,
   "metadata": {},
   "outputs": [
    {
     "name": "stdout",
     "output_type": "stream",
     "text": [
      "first deco\n",
      "second deco\n",
      "i am tiny function\n"
     ]
    }
   ],
   "source": [
    "#데코레이터 두번 쓰는 방법 = 두번 변경하는 방법\n",
    "def deco1(func):\n",
    "    def wrap(x):\n",
    "        print(\"first deco\")\n",
    "        func(x)\n",
    "    return wrap\n",
    "\n",
    "def dec2(func2):\n",
    "    def wrap2(x1):\n",
    "        print(\"second deco\")\n",
    "        func2(x1)\n",
    "    return wrap2\n",
    "\n",
    "@deco1  #dec2를 실행하려고 보니 deco1이 있다! deco1부터 실행! 타고타고 올라가는 개념\n",
    "@dec2   #hi를 실행하려고 보니 dec2가있다! \n",
    "def hi(o):\n",
    "    print(\"i am tiny function\")\n",
    "\n",
    "hi(1)"
   ]
  },
  {
   "cell_type": "code",
   "execution_count": 55,
   "metadata": {},
   "outputs": [
    {
     "name": "stdout",
     "output_type": "stream",
     "text": [
      "second deco\n",
      "first deco\n",
      "i am tiny function\n"
     ]
    }
   ],
   "source": [
    "def deco1(func):\n",
    "    def wrap(x):\n",
    "        print(\"first deco\")\n",
    "        func(x)\n",
    "    return wrap\n",
    "\n",
    "def dec2(func2):\n",
    "    def wrap2(x1):\n",
    "        print(\"second deco\")\n",
    "        func2(x1)\n",
    "    return wrap2\n",
    "\n",
    "@dec2\n",
    "@deco1\n",
    "def hi(o):\n",
    "    print(\"i am tiny function\")\n",
    "\n",
    "hi(1)"
   ]
  },
  {
   "cell_type": "code",
   "execution_count": 56,
   "metadata": {},
   "outputs": [
    {
     "name": "stdout",
     "output_type": "stream",
     "text": [
      "are you kidding?\n",
      "no i am not kidding\n",
      "bye\n",
      "ok i am also a decorator, really not kidding\n",
      "hi\n"
     ]
    }
   ],
   "source": [
    "def decora(de):\n",
    "    print(\"are you kidding?\")\n",
    "    def hello(*args):\n",
    "        print(\"no i am not kidding\")\n",
    "        def wrapper(x):\n",
    "            print(\"bye\")\n",
    "            return de(*args,x)\n",
    "        return wrapper\n",
    "    return hello\n",
    "\n",
    "@decora\n",
    "def hi(fi,*args):\n",
    "    def wrappe(xx):\n",
    "        print(\"ok i am also a decorator, really not kidding\")\n",
    "        fi(xx)\n",
    "    return wrappe\n",
    "\n",
    "@hi()\n",
    "def has(xxx):\n",
    "    print(\"hi\")\n",
    "\n",
    "has(\"ui\")"
   ]
  },
  {
   "cell_type": "code",
   "execution_count": 57,
   "metadata": {},
   "outputs": [],
   "source": [
    "def decorator_with_args(decorator_to_enhance):\n",
    "    \"\"\" \n",
    "    This function is supposed to be used as a decorator.\n",
    "    It must decorate an other function, that is intended to be used as a decorator.\n",
    "    Take a cup of coffee.\n",
    "    It will allow any decorator to accept an arbitrary number of arguments,\n",
    "    saving you the headache to remember how to do that every time.\n",
    "    \"\"\"\n",
    "\n",
    "    # We use the same trick we did to pass arguments\n",
    "    def decorator_maker(*args, **kwargs):\n",
    "\n",
    "        # We create on the fly a decorator that accepts only a function\n",
    "        # but keeps the passed arguments from the maker.\n",
    "        def decorator_wrapper(func):\n",
    "\n",
    "            # We return the result of the original decorator, which, after all, \n",
    "            # IS JUST AN ORDINARY FUNCTION (which returns a function).\n",
    "            # Only pitfall: the decorator must have this specific signature or it won't work:\n",
    "            return decorator_to_enhance(func, *args, **kwargs)\n",
    "\n",
    "        return decorator_wrapper\n",
    "\n",
    "    return decorator_maker"
   ]
  },
  {
   "cell_type": "code",
   "execution_count": 58,
   "metadata": {},
   "outputs": [
    {
     "name": "stdout",
     "output_type": "stream",
     "text": [
      "Decorated with (42, 404, 1024) {}\n",
      "Hello Universe and everything\n"
     ]
    }
   ],
   "source": [
    "# You create the function you will use as a decorator. And stick a decorator on it :-)\n",
    "# Don't forget, the signature is \"decorator(func, *args, **kwargs)\"\n",
    "@decorator_with_args \n",
    "def decorated_decorator(func, *args, **kwargs): \n",
    "    def wrapper(function_arg1, function_arg2):\n",
    "        print(\"Decorated with {0} {1}\".format(args, kwargs))\n",
    "        return func(function_arg1, function_arg2)\n",
    "    return wrapper\n",
    "\n",
    "# Then you decorate the functions you wish with your brand new decorated decorator.\n",
    "\n",
    "@decorated_decorator(42, 404, 1024)\n",
    "def decorated_function(function_arg1, function_arg2):\n",
    "    print(\"Hello {0} {1}\".format(function_arg1, function_arg2))\n",
    "\n",
    "decorated_function(\"Universe and\", \"everything\")\n",
    "#outputs:\n",
    "#Decorated with (42, 404, 1024) {}\n",
    "#Hello Universe and everything\n",
    "\n",
    "# Whoooot!"
   ]
  },
  {
   "cell_type": "markdown",
   "metadata": {},
   "source": [
    "---"
   ]
  },
  {
   "cell_type": "code",
   "execution_count": 60,
   "metadata": {},
   "outputs": [
    {
     "name": "stdout",
     "output_type": "stream",
     "text": [
      "Just\n",
      "Hi i am he function he\n",
      "d\n",
      "Hi i am gh function he\n"
     ]
    }
   ],
   "source": [
    "def hello(func):\n",
    "    def he(x):\n",
    "        print(\"Just\")\n",
    "        print(\"Hi i am he function\",he.__name__)\n",
    "        func(x)\n",
    "    return he\n",
    "\n",
    "@hello\n",
    "def gh(xa):\n",
    "    print(\"d\")\n",
    "    print(\"Hi i am gh function\", gh.__name__)\n",
    "\n",
    "gh(13)"
   ]
  },
  {
   "cell_type": "code",
   "execution_count": 74,
   "metadata": {},
   "outputs": [
    {
     "name": "stdout",
     "output_type": "stream",
     "text": [
      "Just\n",
      "d\n",
      "Hi i am gh function gh\n"
     ]
    }
   ],
   "source": [
    "import functools\n",
    "\n",
    "def hello(func):\n",
    "    @functools.wraps(func)\n",
    "    def he(x):\n",
    "        print(\"Just\")\n",
    "        func(x)\n",
    "    return he\n",
    "\n",
    "@hello\n",
    "def gh(xa):\n",
    "    print(\"d\")\n",
    "    print(\"Hi i am gh function\", gh.__name__)\n",
    "\n",
    "gh(13)"
   ]
  },
  {
   "cell_type": "code",
   "execution_count": 68,
   "metadata": {},
   "outputs": [
    {
     "name": "stdout",
     "output_type": "stream",
     "text": [
      "decorator2\n",
      "decorator1\n",
      "inner1\n",
      "inner2\n",
      "foo\n"
     ]
    }
   ],
   "source": [
    "def decorator1(fn):\n",
    "    print(\"decorator1\")\n",
    "    def inner1(*args, **kwargs):\n",
    "        print(\"inner1\")\n",
    "        return fn(*args, **kwargs)\n",
    "    return inner1\n",
    "\n",
    "def decorator2(fn):\n",
    "    print(\"decorator2\")\n",
    "    def inner2(*args, **kwargs):\n",
    "        print(\"inner2\")\n",
    "        return fn(*args, **kwargs)\n",
    "    return inner2\n",
    "\n",
    "@decorator1\n",
    "@decorator2\n",
    "def foo():\n",
    "    print(\"foo\")\n",
    "    \n",
    "foo()"
   ]
  },
  {
   "cell_type": "code",
   "execution_count": 69,
   "metadata": {},
   "outputs": [
    {
     "name": "stdout",
     "output_type": "stream",
     "text": [
      "inner1\n",
      "inner2\n",
      "foo\n"
     ]
    }
   ],
   "source": [
    "foo()"
   ]
  },
  {
   "cell_type": "code",
   "execution_count": 70,
   "metadata": {},
   "outputs": [
    {
     "name": "stdout",
     "output_type": "stream",
     "text": [
      "inner1\n",
      "inner2\n",
      "foo\n"
     ]
    }
   ],
   "source": [
    "foo()"
   ]
  },
  {
   "cell_type": "code",
   "execution_count": 71,
   "metadata": {},
   "outputs": [
    {
     "name": "stdout",
     "output_type": "stream",
     "text": [
      "decorator2\n",
      "decorator1\n"
     ]
    }
   ],
   "source": [
    "@decorator1\n",
    "@decorator2\n",
    "def foo():\n",
    "    print(\"foo\")"
   ]
  },
  {
   "cell_type": "code",
   "execution_count": null,
   "metadata": {},
   "outputs": [],
   "source": []
  }
 ],
 "metadata": {
  "kernelspec": {
   "display_name": "Python 3",
   "language": "python",
   "name": "python3"
  },
  "language_info": {
   "codemirror_mode": {
    "name": "ipython",
    "version": 3
   },
   "file_extension": ".py",
   "mimetype": "text/x-python",
   "name": "python",
   "nbconvert_exporter": "python",
   "pygments_lexer": "ipython3",
   "version": "3.7.3"
  }
 },
 "nbformat": 4,
 "nbformat_minor": 2
}
