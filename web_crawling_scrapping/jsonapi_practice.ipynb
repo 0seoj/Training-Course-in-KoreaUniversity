{
 "cells": [
  {
   "cell_type": "code",
   "execution_count": 10,
   "metadata": {},
   "outputs": [
    {
     "name": "stdout",
     "output_type": "stream",
     "text": [
      "{\n",
      " \"CtprvnMesureLIstVo2\": {\n",
      "  \"_returnType\": \"json\",\n",
      "  \"cityName\": \"\",\n",
      "  \"cityNameEng\": \"\",\n",
      "  \"coValue\": \"\",\n",
      "  \"dataGubun\": \"\",\n",
      "  \"dataTime\": \"\",\n",
      "  \"districtCode\": \"\",\n",
      "  \"districtNumSeq\": \"\",\n",
      "  \"itemCode\": \"\",\n",
      "  \"khaiValue\": \"\",\n",
      "  \"no2Value\": \"\",\n",
      "  \"numOfRows\": \"10,10\",\n",
      "  \"o3Value\": \"\",\n",
      "  \"pageNo\": \"1,1\",\n",
      "  \"pm10Value\": \"\",\n",
      "  \"pm25Value\": \"\",\n",
      "  \"resultCode\": \"\",\n",
      "  \"resultMsg\": \"\",\n",
      "  \"searchCondition\": \"DAILY,DAILY\",\n",
      "  \"serviceKey\": \"z+lyT2D1Vsb84cYXtpWei5P/3nNiNCkckrE8sWLwhNhBD3Eq8nzyTuLC3GUVCBEDwvg9llPFT1tkNjn3PdoJ9Q==,z+lyT2D1Vsb84cYXtpWei5P/3nNiNCkckrE8sWLwhNhBD3Eq8nzyTuLC3GUVCBEDwvg9llPFT1tkNjn3PdoJ9Q==\",\n",
      "  \"sidoName\": \"서울,서울\",\n",
      "  \"so2Value\": \"\",\n",
      "  \"totalCount\": \"\"\n",
      " }\n",
      "}\n"
     ]
    }
   ],
   "source": [
    "import json\n",
    "import urllib\n",
    "\n",
    "url = \"http://openapi.airkorea.or.kr/openapi/services/rest/ArpltnInforInqireSvc/getCtprvnMesureSidoLIst?serviceKey=z%2BlyT2D1Vsb84cYXtpWei5P%2F3nNiNCkckrE8sWLwhNhBD3Eq8nzyTuLC3GUVCBEDwvg9llPFT1tkNjn3PdoJ9Q%3D%3D&numOfRows=10&pageNo=1&sidoName=%EC%84%9C%EC%9A%B8&searchCondition=DAILY\"\n",
    "params = {\n",
    "    \"serviceKey\" : \"z%2BlyT2D1Vsb84cYXtpWei5P%2F3nNiNCkckrE8sWLwhNhBD3Eq8nzyTuLC3GUVCBEDwvg9llPFT1tkNjn3PdoJ9Q%3D%3D\",\n",
    "    \"numOfRows\" : 10,\n",
    "    \"pageNo\" : 1,\n",
    "    \"sidoName\":\"서울\",\n",
    "    \"searchCondition\" : \"DAILY\",\n",
    "    \"ver\":\"1.3\",\n",
    "    \"_returnType\":\"JSON\"\n",
    "}\n",
    "\n",
    "params[\"serviceKey\"] = urllib.parse.unquote(params[\"serviceKey\"])\n",
    "params = urllib.parse.urlencode(params)\n",
    "params = params.encode(\"utf-8\")\n",
    "\n",
    "req = urllib.request.Request(url, data=params)\n",
    "res = urllib.request.urlopen(req)\n",
    "\n",
    "resStr = res.read()\n",
    "\n",
    "resStr = resStr.decode(\"utf-8\")\n",
    "resObj = json.loads(resStr)\n",
    "resJSON = json.dumps(resObj, indent = \" \", ensure_ascii = False)\n",
    "print(resJSON)\n"
   ]
  },
  {
   "cell_type": "code",
   "execution_count": 13,
   "metadata": {},
   "outputs": [
    {
     "data": {
      "text/plain": [
       "dict_keys(['CtprvnMesureLIstVo2'])"
      ]
     },
     "execution_count": 13,
     "metadata": {},
     "output_type": "execute_result"
    }
   ],
   "source": [
    "resObj.keys()"
   ]
  },
  {
   "cell_type": "code",
   "execution_count": 14,
   "metadata": {},
   "outputs": [
    {
     "ename": "TypeError",
     "evalue": "string indices must be integers",
     "output_type": "error",
     "traceback": [
      "\u001b[0;31m---------------------------------------------------------------------------\u001b[0m",
      "\u001b[0;31mTypeError\u001b[0m                                 Traceback (most recent call last)",
      "\u001b[0;32m<ipython-input-14-c444461a3e16>\u001b[0m in \u001b[0;36m<module>\u001b[0;34m\u001b[0m\n\u001b[0;32m----> 1\u001b[0;31m \u001b[0;34m[\u001b[0m\u001b[0;34m{\u001b[0m\u001b[0mrow\u001b[0m\u001b[0;34m[\u001b[0m\u001b[0;34m\"sidoName\"\u001b[0m\u001b[0;34m]\u001b[0m\u001b[0;34m}\u001b[0m \u001b[0;32mfor\u001b[0m \u001b[0mrow\u001b[0m \u001b[0;32min\u001b[0m \u001b[0mresObj\u001b[0m\u001b[0;34m[\u001b[0m\u001b[0;34m\"CtprvnMesureLIstVo2\"\u001b[0m\u001b[0;34m]\u001b[0m\u001b[0;34m]\u001b[0m\u001b[0;34m\u001b[0m\u001b[0;34m\u001b[0m\u001b[0m\n\u001b[0m",
      "\u001b[0;32m<ipython-input-14-c444461a3e16>\u001b[0m in \u001b[0;36m<listcomp>\u001b[0;34m(.0)\u001b[0m\n\u001b[0;32m----> 1\u001b[0;31m \u001b[0;34m[\u001b[0m\u001b[0;34m{\u001b[0m\u001b[0mrow\u001b[0m\u001b[0;34m[\u001b[0m\u001b[0;34m\"sidoName\"\u001b[0m\u001b[0;34m]\u001b[0m\u001b[0;34m}\u001b[0m \u001b[0;32mfor\u001b[0m \u001b[0mrow\u001b[0m \u001b[0;32min\u001b[0m \u001b[0mresObj\u001b[0m\u001b[0;34m[\u001b[0m\u001b[0;34m\"CtprvnMesureLIstVo2\"\u001b[0m\u001b[0;34m]\u001b[0m\u001b[0;34m]\u001b[0m\u001b[0;34m\u001b[0m\u001b[0;34m\u001b[0m\u001b[0m\n\u001b[0m",
      "\u001b[0;31mTypeError\u001b[0m: string indices must be integers"
     ]
    }
   ],
   "source": []
  },
  {
   "cell_type": "code",
   "execution_count": null,
   "metadata": {},
   "outputs": [],
   "source": []
  }
 ],
 "metadata": {
  "kernelspec": {
   "display_name": "Python 3",
   "language": "python",
   "name": "python3"
  },
  "language_info": {
   "codemirror_mode": {
    "name": "ipython",
    "version": 3
   },
   "file_extension": ".py",
   "mimetype": "text/x-python",
   "name": "python",
   "nbconvert_exporter": "python",
   "pygments_lexer": "ipython3",
   "version": "3.7.3"
  }
 },
 "nbformat": 4,
 "nbformat_minor": 2
}
