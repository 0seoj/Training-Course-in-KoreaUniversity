{
 "cells": [
  {
   "cell_type": "markdown",
   "metadata": {},
   "source": [
    "## The Type Brothers\n",
    "\n",
    "The first step into the most intimate secrets of Python objects comes from two components we already met in the first post: `class` and `object`. These two things are the very fundamental elements of Python OOP system, so it is worth spending some time to understand how they work and relate each other.\n",
    "\n",
    "First of all recall that in Python _everything is an object_, that is everything inherits from `object`. Thus, `object` seems to be the deepest thing you can find digging into Python variables. Let's check this"
   ]
  },
  {
   "cell_type": "code",
   "execution_count": null,
   "metadata": {},
   "outputs": [],
   "source": [
    "#메타클래스는 엄청나게많이나옴 \n",
    "#type()쳤을 때 type나오면 메타클래스임\n",
    "#클래스를 조작하고 싶을 때 사용함\n",
    "#나만의 메타클래스 어케만들까? 타입을 상속받아서 만든다!\n",
    "#내가 만든 메타클래스를 사용하고싶으면 ? 이렇게 지정한다."
   ]
  },
  {
   "cell_type": "code",
   "execution_count": 1,
   "metadata": {},
   "outputs": [
    {
     "name": "stdout",
     "output_type": "stream",
     "text": [
      "<class 'int'>\n"
     ]
    }
   ],
   "source": [
    "a = 5\n",
    "print(type(a))"
   ]
  },
  {
   "cell_type": "code",
   "execution_count": 2,
   "metadata": {},
   "outputs": [
    {
     "name": "stdout",
     "output_type": "stream",
     "text": [
      "<class 'int'>\n"
     ]
    }
   ],
   "source": [
    "print(a.__class__)"
   ]
  },
  {
   "cell_type": "code",
   "execution_count": 3,
   "metadata": {},
   "outputs": [
    {
     "name": "stdout",
     "output_type": "stream",
     "text": [
      "<class 'object'>\n"
     ]
    }
   ],
   "source": [
    "print(a.__class__.__base__)"
   ]
  },
  {
   "cell_type": "code",
   "execution_count": 4,
   "metadata": {},
   "outputs": [
    {
     "name": "stdout",
     "output_type": "stream",
     "text": [
      "()\n"
     ]
    }
   ],
   "source": [
    "print(object.__bases__)"
   ]
  },
  {
   "cell_type": "markdown",
   "metadata": {},
   "source": [
    "The variable `a` is an instance of the `int` class, and this latter inherits from `object`, which inherits from nothing. This demonstrates that `object` is at the top of the class hierarchy. However, as you can see, both `int` and `object` are called _classes_ (`<class 'int'>`, `<class 'object'>`). Indeed, while `a` is an instance of the `int` class, `int` itself is an instance of another class, _a class that is instanced to build classes_"
   ]
  },
  {
   "cell_type": "code",
   "execution_count": null,
   "metadata": {},
   "outputs": [],
   "source": [
    "print(type(a))"
   ]
  },
  {
   "cell_type": "code",
   "execution_count": null,
   "metadata": {},
   "outputs": [],
   "source": [
    "print(type(int))"
   ]
  },
  {
   "cell_type": "code",
   "execution_count": null,
   "metadata": {},
   "outputs": [],
   "source": [
    "print(type(float))"
   ]
  },
  {
   "cell_type": "code",
   "execution_count": null,
   "metadata": {},
   "outputs": [],
   "source": [
    "print(type(dict))"
   ]
  },
  {
   "cell_type": "markdown",
   "metadata": {},
   "source": [
    "Since in Python everything is an object, everything is the instance of a class, even classes. Well, `type` is the class that is instanced to get classes. So remember this: `object` is the base of every object, `type` is the class of every type. Sounds puzzling? It is not your fault, don't worry. However, just to strike you with the finishing move, this is what Python is built on"
   ]
  },
  {
   "cell_type": "code",
   "execution_count": null,
   "metadata": {},
   "outputs": [],
   "source": [
    "print(type(object))"
   ]
  },
  {
   "cell_type": "code",
   "execution_count": null,
   "metadata": {},
   "outputs": [],
   "source": [
    "print(type.__bases__)"
   ]
  },
  {
   "cell_type": "markdown",
   "metadata": {},
   "source": [
    "If you are not about to faint at this point chances are that you are Guido van Rossum of one of his friends down at the Python core development team (in this case let me thank you for your beautiful creation). You may get a cup of tea, if you need it.\n",
    "\n",
    "Jokes apart, at the very base of Python type system there are two things, `object` and `type`, which are inseparable. The previous code shows that `object` is an instance of `type`, and `type` inherits from `object`. Take your time to understand this subtle concept, as it is very important for the upcoming discussion about metaclasses.\n",
    "\n",
    "When you think you grasped the `type`/`object` matter read this and start thinking again"
   ]
  },
  {
   "cell_type": "code",
   "execution_count": null,
   "metadata": {},
   "outputs": [],
   "source": [
    "print(type(type))"
   ]
  },
  {
   "cell_type": "markdown",
   "metadata": {},
   "source": [
    "## The Metaclasses Take Python\n",
    "\n",
    "You are now familiar with Python classes. You know that a class is used to create an instance, and that the structure of this latter is ruled by the source class and all its parent classes (until you reach `object`).\n",
    "\n",
    "Since classes are objects too, you know that a class itself is an instance of a (super)class, and this class is `type`. That is, as already stated, `type` is the class that is used to build classes.\n",
    "\n",
    "So for example you know that a class may be instanced, i.e. it can be called and by calling it you obtain another object that is linked with the class. What prepares the class for being called? What gives the class all its methods? In Python the class in charge of performing such tasks is called _metaclass_, and `type` is the default metaclass of all classes.\n",
    "\n",
    "The point of exposing this structure of Python objects is that you may change the way classes are built. As you know, `type` is an object, so it can be subclassed just like any other class. Once you get a subclass of `type` you need to instruct your class to use it as the metaclass instead of type, and you can do this by passing it as the `metaclass` keyword argument in the class definition."
   ]
  },
  {
   "cell_type": "code",
   "execution_count": 3,
   "metadata": {},
   "outputs": [],
   "source": [
    "#나만의 메타클래스 어케만들까? 타입을 상속받아서 만든다!\n",
    "  #파이썬의 기본적인 메타클래스는 type이다. 메타클래스란? 클래스의 행동을 바꿀 수 있는 클래스\n",
    "class MyType(type):  \n",
    "    pass\n",
    "\n",
    "class MySpecialClass(metaclass=MyType):#내가 만든 메타클래스를 사용하고싶으면 ? 이렇게 지정한다. 메타클레스 = 내가만든 메타클래스이름\n",
    "    pass"
   ]
  },
  {
   "cell_type": "code",
   "execution_count": 4,
   "metadata": {},
   "outputs": [],
   "source": [
    "msp = MySpecialClass()"
   ]
  },
  {
   "cell_type": "code",
   "execution_count": 8,
   "metadata": {},
   "outputs": [
    {
     "data": {
      "text/plain": [
       "__main__.MySpecialClass"
      ]
     },
     "execution_count": 8,
     "metadata": {},
     "output_type": "execute_result"
    }
   ],
   "source": [
    "type(msp)  "
   ]
  },
  {
   "cell_type": "code",
   "execution_count": 9,
   "metadata": {},
   "outputs": [
    {
     "name": "stdout",
     "output_type": "stream",
     "text": [
      "<class '__main__.MySpecialClass'>\n"
     ]
    }
   ],
   "source": [
    "print(type(msp))"
   ]
  },
  {
   "cell_type": "code",
   "execution_count": 10,
   "metadata": {},
   "outputs": [
    {
     "name": "stdout",
     "output_type": "stream",
     "text": [
      "<class '__main__.MyType'>\n"
     ]
    }
   ],
   "source": [
    "print(type(MySpecialClass)) #내가만든 메타클래스 이름이 나옴"
   ]
  },
  {
   "cell_type": "code",
   "execution_count": 11,
   "metadata": {},
   "outputs": [
    {
     "name": "stdout",
     "output_type": "stream",
     "text": [
      "<class 'type'>\n"
     ]
    }
   ],
   "source": [
    "print(type(MyType))  #얘도 타입이야 "
   ]
  },
  {
   "cell_type": "markdown",
   "metadata": {},
   "source": [
    "#### Metaclasses 2: Singleton Day\n",
    "\n",
    "Metaclasses are a very advanced topic in Python, but they have many practical uses. For example, by means of a custom metaclass you may log any time a class is instanced, which can be important for applications that shall keep a low memory usage or have to monitor it.\n",
    "\n",
    "I am going to show here a very simple example of metaclass, the Singleton. Singleton is a well known design pattern, and many description of it may be found on the Internet. It has also been heavily criticized mostly because its bad behaviour when subclassed, but here I do not want to introduce it for its technological value, but for its simplicity (so please do not question the choice, it is just an example).\n",
    "\n",
    "Singleton has one purpose: to return the same instance every time it is instanced, like a sort of object-oriented global variable. So we need to build a class that does not work like standard classes, which return a new instance every time they are called.\n",
    "\n",
    "\"Build a class\"? This is a task for metaclasses. The following implementation comes from [Python 3 Patterns, Recipes and Idioms](http://python-3-patterns-idioms-test.readthedocs.org/en/latest/Metaprogramming.html#intercepting-class-creation)."
   ]
  },
  {
   "cell_type": "code",
   "execution_count": 13,
   "metadata": {},
   "outputs": [],
   "source": [
    "#singleton pattern : 객체를 한개밖에 못만듦\n",
    "#원래는 객체를 여러개 만들 수 있어.\n",
    "#한개만 만들도록 제한을 하고싶다? --> 메타클래스 만들자\n",
    "\n",
    "class Singleton(type):\n",
    "    instance = None\n",
    "    def __call__(cls, *args, **kw):  #이렇게하면 파라메터 맞출 필요 없음\n",
    "        if not cls.instance:  #없으면 새로 만들고\n",
    "             cls.instance = super().__call__(*args, **kw)\n",
    "        return cls.instance  #있으면 기존거 갖다씀"
   ]
  },
  {
   "cell_type": "markdown",
   "metadata": {},
   "source": [
    "We are defining a new type, which inherits from `type` to provide all bells and whistles of Python classes. We override the `__call__` method, that is a special method invoked when we call the class, i.e. when we instance it. The new method wraps the original method of `type` by calling it only when the `instance` attribute is not set, i.e. the first time the class is instanced, otherwise it just returns the recorded instance. As you can see this is a very basic cache class, the only trick is that it is applied to the creation of instances.\n",
    "\n",
    "To test the new type we need to define a new class that uses it as its metaclass"
   ]
  },
  {
   "cell_type": "code",
   "execution_count": 14,
   "metadata": {},
   "outputs": [],
   "source": [
    "class ASingleton(metaclass=Singleton):  #내가 만든거 사용할때 metaclass=내가만든메타클래스이름\n",
    "    pass"
   ]
  },
  {
   "cell_type": "code",
   "execution_count": 15,
   "metadata": {},
   "outputs": [
    {
     "data": {
      "text/plain": [
       "4456567136"
      ]
     },
     "execution_count": 15,
     "metadata": {},
     "output_type": "execute_result"
    }
   ],
   "source": [
    "a = ASingleton()\n",
    "id(a)"
   ]
  },
  {
   "cell_type": "code",
   "execution_count": 16,
   "metadata": {},
   "outputs": [],
   "source": [
    "b = ASingleton()"
   ]
  },
  {
   "cell_type": "code",
   "execution_count": 17,
   "metadata": {},
   "outputs": [
    {
     "data": {
      "text/plain": [
       "4456567136"
      ]
     },
     "execution_count": 17,
     "metadata": {},
     "output_type": "execute_result"
    }
   ],
   "source": [
    "id(b)   #???? 기본적으로는 id 달라 @!!! id가 갖다는건 똑같은 객체다    \n",
    "#파이썬 기본 기능으로는 이렇게 못만들지만,\n",
    "#메타클래스를 만들어서 객체를 하나만 만들도록 만든다"
   ]
  },
  {
   "cell_type": "code",
   "execution_count": null,
   "metadata": {},
   "outputs": [],
   "source": [
    "hex(id(a))"
   ]
  },
  {
   "cell_type": "code",
   "execution_count": null,
   "metadata": {},
   "outputs": [],
   "source": [
    "hex(id(b))"
   ]
  },
  {
   "cell_type": "markdown",
   "metadata": {},
   "source": [
    "By using the `is` operator we test that the two objects are the very same structure in memory, that is their ids are the same, as explicitly shown. What actually happens is that when you issue `a = ASingleton()` the `ASingleton` class runs its `__call__()` method, which is taken from the `Singleton` type behind the class. That method recognizes that no instance has been created (`Singleton.instance` is `None`) and acts just like any standard class does. When you issue `b = ASingleton()` the very same things happen, but since `Singleton.instance` is now different from `None` its value (the previous instance) is directly returned.\n",
    "\n",
    "Metaclasses are a very powerful programming tool and leveraging them you can achieve very complex behaviours with a small effort. Their use is a must every time you are actually metaprogramming, that is you are writing code that has to drive the way your code works. Good examples are creational patterns (injecting custom class attributes depending on some configuration), testing, debugging, and performance monitoring.\n",
    "\n",
    "## Coming to Instance\n",
    "\n",
    "Before introducing you to a very smart use of metaclasses by talking about Abstract Base Classes (read: to save some topics for the next part of this series), I want to dive into the object creation procedure in Python, that is what happens when you instance a class. In the first post this procedure was described only partially, by looking at the `__init__()` method.\n",
    "\n",
    "In the first post I recalled the object-oriented concept of _constructor_, which is a special method of the class that is automatically called when the instance is created. The class may also define a destructor, which is called when the object is destroyed. In languages without a garbage collection mechanism such as C++ the destructor shall be carefully designed. In Python the destructor may be defined through the `__del__()` method, but it is hardly used.\n",
    "\n",
    "The constructor mechanism in Python is on the contrary very important, and it is implemented by two methods, instead of just one: `__new__()` and `__init__()`. The tasks of the two methods are very clear and distinct: `__new__()` shall perform actions needed when _creating_ a new instance while `__init__` deals with object _initialization_.\n",
    "\n",
    "Since in Python you do not need to declare attributes due to its dynamic nature, `__new__()` is rarely defined by programmers, who may rely on `__init__` to perform the majority of the usual tasks. Typical uses of `__new__()` are very similar to those listed in the previous section, since it allows to trigger some code whenever your class is instanced.\n",
    "\n",
    "The standard way to override `__new__()` is "
   ]
  },
  {
   "cell_type": "code",
   "execution_count": null,
   "metadata": {},
   "outputs": [],
   "source": [
    "class MyClass():\n",
    "    def __new__(cls, *args, **kwds):\n",
    "        obj = super().__new__(cls, *args, **kwds)\n",
    "        # put your code here\n",
    "        return obj"
   ]
  },
  {
   "cell_type": "markdown",
   "metadata": {},
   "source": [
    "just like you usually do with `__init__()`. When your class inherits from `object` you do not need to call the parent method (`object.__init__()`), because it is empty, but you need to do it when overriding `__new__`.\n",
    "\n",
    "Remember that `__new__()` is not forced to return an instance of the class in which it is defined, even if you shall have very good reasons to break this behaviour. Anyway, `__init__()` will be called only if you return an instance of the container class. Please also note that `__new__()`, unlike `__init__()`, accepts the class as its first parameter. The name is not important in Python, and you can also call it `self`, but it is worth using `cls` to remember that it is not an instance.\n",
    "\n",
    "## Movie Trivia\n",
    "\n",
    "Section titles come from the following movies: _The Blues Brothers (1980)_, _The Muppets Take Manhattan (1984)_, _Terminator 2: Judgement Day (1991)_, _Coming to America (1988)_.\n",
    "\n",
    "## Sources\n",
    "\n",
    "You will find a lot of documentation in [this Reddit post](http://www.reddit.com/r/Python/comments/226ahl/some_links_about_python_oop/). Most of the information contained in this series come from those sources.\n",
    "\n",
    "## Feedback\n",
    "\n",
    "Feel free to use [the blog Google+ page](https://plus.google.com/u/0/b/110554719587236016835/110554719587236016835/posts) to comment the post. The [GitHub issues](https://github.com/lgiordani/lgiordani.github.com/issues) page is the best place to submit corrections."
   ]
  }
 ],
 "metadata": {
  "kernelspec": {
   "display_name": "Python 3",
   "language": "python",
   "name": "python3"
  },
  "language_info": {
   "codemirror_mode": {
    "name": "ipython",
    "version": 3
   },
   "file_extension": ".py",
   "mimetype": "text/x-python",
   "name": "python",
   "nbconvert_exporter": "python",
   "pygments_lexer": "ipython3",
   "version": "3.7.3"
  },
  "varInspector": {
   "cols": {
    "lenName": 16,
    "lenType": 16,
    "lenVar": 40
   },
   "kernels_config": {
    "python": {
     "delete_cmd_postfix": "",
     "delete_cmd_prefix": "del ",
     "library": "var_list.py",
     "varRefreshCmd": "print(var_dic_list())"
    },
    "r": {
     "delete_cmd_postfix": ") ",
     "delete_cmd_prefix": "rm(",
     "library": "var_list.r",
     "varRefreshCmd": "cat(var_dic_list()) "
    }
   },
   "types_to_exclude": [
    "module",
    "function",
    "builtin_function_or_method",
    "instance",
    "_Feature"
   ],
   "window_display": false
  }
 },
 "nbformat": 4,
 "nbformat_minor": 1
}
